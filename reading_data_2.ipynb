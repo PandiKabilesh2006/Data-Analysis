{
 "cells": [
  {
   "cell_type": "code",
   "execution_count": 1,
   "id": "da9adce9",
   "metadata": {},
   "outputs": [],
   "source": [
    "import pandas as pd\n",
    "import numpy as np\n",
    "import pandas.io.sql as pds\n",
    "import sqlite3"
   ]
  },
  {
   "cell_type": "code",
   "execution_count": 2,
   "id": "687646ea",
   "metadata": {},
   "outputs": [
    {
     "name": "stdout",
     "output_type": "stream",
     "text": [
      "--2025-04-06 13:39:27--  https://cf-courses-data.s3.us.cloud-object-storage.appdomain.cloud/IBM-ML0232EN-SkillsNetwork/asset/baseball.db\n",
      "Resolving cf-courses-data.s3.us.cloud-object-storage.appdomain.cloud (cf-courses-data.s3.us.cloud-object-storage.appdomain.cloud)... 198.23.119.245\n",
      "Connecting to cf-courses-data.s3.us.cloud-object-storage.appdomain.cloud (cf-courses-data.s3.us.cloud-object-storage.appdomain.cloud)|198.23.119.245|:443... connected.\n",
      "HTTP request sent, awaiting response... 200 OK\n",
      "Length: 7626752 (7.3M) [binary/octet-stream]\n",
      "Saving to: ‘data/baseball.db’\n",
      "\n",
      "baseball.db         100%[===================>]   7.27M  2.82MB/s    in 2.6s    \n",
      "\n",
      "2025-04-06 13:39:33 (2.82 MB/s) - ‘data/baseball.db’ saved [7626752/7626752]\n",
      "\n"
     ]
    }
   ],
   "source": [
    "!wget -P data https://cf-courses-data.s3.us.cloud-object-storage.appdomain.cloud/IBM-ML0232EN-SkillsNetwork/asset/baseball.db"
   ]
  },
  {
   "cell_type": "code",
   "execution_count": 7,
   "id": "19036d74",
   "metadata": {},
   "outputs": [
    {
     "name": "stdout",
     "output_type": "stream",
     "text": [
      "<sqlite3.Connection object at 0x77c40c021990>\n",
      "   index   playerID  yearID  gameNum  ... teamID lgID   GP  startingPos\n",
      "0      0  gomezle01    1933        0  ...    NYA   AL  1.0          1.0\n",
      "1      1  ferreri01    1933        0  ...    BOS   AL  1.0          2.0\n",
      "2      2  gehrilo01    1933        0  ...    NYA   AL  1.0          3.0\n",
      "3      3  gehrich01    1933        0  ...    DET   AL  1.0          4.0\n",
      "4      4  dykesji01    1933        0  ...    CHA   AL  1.0          5.0\n",
      "\n",
      "[5 rows x 9 columns]\n"
     ]
    }
   ],
   "source": [
    "path='data/baseball.db'\n",
    "con=sqlite3.Connection(path)\n",
    "print(con)\n",
    "query='''SELECT * FROM allstarfull;'''\n",
    "allstar_observations=pd.read_sql(query,con)\n",
    "print(allstar_observations.head())"
   ]
  },
  {
   "cell_type": "code",
   "execution_count": 5,
   "id": "9d79b308",
   "metadata": {},
   "outputs": [
    {
     "name": "stdout",
     "output_type": "stream",
     "text": [
      "    type  ...                                                sql\n",
      "0  table  ...  CREATE TABLE \"allstarfull\" (\\n\"index\" INTEGER,...\n",
      "1  index  ...  CREATE INDEX \"ix_allstarfull_index\"ON \"allstar...\n",
      "2  table  ...  CREATE TABLE \"schools\" (\\n\"index\" INTEGER,\\n  ...\n",
      "3  index  ...  CREATE INDEX \"ix_schools_index\"ON \"schools\" (\"...\n",
      "4  table  ...  CREATE TABLE \"batting\" (\\n\"index\" INTEGER,\\n  ...\n",
      "5  index  ...  CREATE INDEX \"ix_batting_index\"ON \"batting\" (\"...\n",
      "\n",
      "[6 rows x 5 columns]\n"
     ]
    }
   ],
   "source": [
    "all_tables=pd.read_sql(\"SELECT * FROM sqlite_master\",con)\n",
    "print(all_tables)"
   ]
  },
  {
   "cell_type": "code",
   "execution_count": 6,
   "id": "21cef5ca",
   "metadata": {},
   "outputs": [
    {
     "name": "stdout",
     "output_type": "stream",
     "text": [
      "    playerID  num_games_played  avg_starting_position\n",
      "0  musiast01              24.0               6.357143\n",
      "1   mayswi01              24.0               8.000000\n",
      "2  aaronha01              24.0               8.470588\n"
     ]
    }
   ],
   "source": [
    "best_query = \"\"\"\n",
    "SELECT playerID, sum(GP) AS num_games_played, AVG(startingPos) AS avg_starting_position\n",
    "    FROM allstarfull\n",
    "    GROUP BY playerID\n",
    "    ORDER BY num_games_played DESC, avg_starting_position ASC\n",
    "    LIMIT 3\n",
    "\"\"\"\n",
    "best = pd.read_sql(best_query, con)\n",
    "print(best.head())\n",
    "### END SOLUTION"
   ]
  },
  {
   "cell_type": "code",
   "execution_count": null,
   "id": "45859fc6",
   "metadata": {},
   "outputs": [],
   "source": []
  }
 ],
 "metadata": {
  "kernelspec": {
   "display_name": "pandiayyapamuruga",
   "language": "python",
   "name": "python3"
  },
  "language_info": {
   "codemirror_mode": {
    "name": "ipython",
    "version": 3
   },
   "file_extension": ".py",
   "mimetype": "text/x-python",
   "name": "python",
   "nbconvert_exporter": "python",
   "pygments_lexer": "ipython3",
   "version": "3.13.2"
  }
 },
 "nbformat": 4,
 "nbformat_minor": 5
}
