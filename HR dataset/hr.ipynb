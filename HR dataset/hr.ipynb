{
 "cells": [
  {
   "cell_type": "code",
   "execution_count": 1,
   "metadata": {},
   "outputs": [
    {
     "data": {
      "text/plain": [
       "'Connected: @HR.db'"
      ]
     },
     "execution_count": 1,
     "metadata": {},
     "output_type": "execute_result"
    }
   ],
   "source": [
    "import pandas as pd\n",
    "import numpy as np\n",
    "import seaborn as sns\n",
    "import sqlite3\n",
    "con=sqlite3.connect('HR.db')\n",
    "cur=con.cursor()\n",
    "%load_ext sql\n",
    "%sql sqlite:///HR.db"
   ]
  },
  {
   "cell_type": "code",
   "execution_count": 2,
   "metadata": {},
   "outputs": [],
   "source": [
    "import prettytable\n",
    "prettytable.DEFAULT='DEFAULT'"
   ]
  },
  {
   "cell_type": "code",
   "execution_count": 14,
   "metadata": {},
   "outputs": [
    {
     "name": "stdout",
     "output_type": "stream",
     "text": [
      " * sqlite:///HR.db\n",
      "(sqlite3.OperationalError) table employees already exists\n",
      "[SQL: CREATE TABLE employees (\n",
      "    emp_id CHAR(20) PRIMARY KEY NOT NULL,\n",
      "    f_name VARCHAR(50),\n",
      "    l_name VARCHAR(50),\n",
      "    ssn INTEGER,\n",
      "    b_date DATE,\n",
      "    sex CHAR(10),\n",
      "    address VARCHAR(100),\n",
      "    job_id INTEGER,\n",
      "    salary INTEGER,\n",
      "    manager_id INTEGER,\n",
      "    dept_id INTEGER\n",
      ");]\n",
      "(Background on this error at: https://sqlalche.me/e/14/e3q8)\n"
     ]
    }
   ],
   "source": [
    "%%sql\n",
    "CREATE TABLE employees (\n",
    "    emp_id CHAR(20) PRIMARY KEY NOT NULL,\n",
    "    f_name VARCHAR(50),\n",
    "    l_name VARCHAR(50),\n",
    "    ssn INTEGER,\n",
    "    b_date DATE,\n",
    "    sex CHAR(10),\n",
    "    address VARCHAR(100),\n",
    "    job_id INTEGER,\n",
    "    salary INTEGER,\n",
    "    manager_id INTEGER,\n",
    "    dept_id INTEGER\n",
    ");\n",
    "\n"
   ]
  },
  {
   "cell_type": "code",
   "execution_count": 15,
   "metadata": {},
   "outputs": [
    {
     "name": "stdout",
     "output_type": "stream",
     "text": [
      " * sqlite:///HR.db\n",
      "10 rows affected.\n"
     ]
    },
    {
     "data": {
      "text/plain": [
       "[]"
      ]
     },
     "execution_count": 15,
     "metadata": {},
     "output_type": "execute_result"
    }
   ],
   "source": [
    "%%sql\n",
    "INSERT INTO employees VALUES\n",
    "('E1001', 'John', 'Thomas', 123456, '1976-09-01', 'M', '5631 Rice, OakPark,IL', 100, 100000, 30001, 2),\n",
    "('E1002', 'Alice', 'James', 123457, '1972-07-31', 'F', '980 Berry ln, Elgin,IL', 200, 80000, 30002, 5),\n",
    "('E1003', 'Steve', 'Wells', 123458, '1980-10-08', 'M', '291 Springs, Gary,IL', 300, 50000, 30002, 5),\n",
    "('E1004', 'Santosh', 'Kumar', 123459, '1985-07-20', 'M', '511 Aurora Av, Aurora,IL', 400, 60000, 30004, 5),\n",
    "('E1005', 'Ahmed', 'Hussain', 123410, '1981-04-01', 'M', '216 Oak Tree, Geneva,IL', 500, 70000, 30001, 2),\n",
    "('E1006', 'Nancy', 'Allen', 123411, '1978-06-02', 'F', '111 Green Pl, Elgin,IL', 600, 90000, 30001, 2),\n",
    "('E1007', 'Mary', 'Thomas', 123412, '1975-05-05', 'F', '100 Rose Pl, Gary,IL', 650, 65000, 30003, 7),\n",
    "('E1008', 'Bharath', 'Gupta', 123413, '1985-06-05', 'M', '145 Berry Ln, Naperville,IL', 660, 65000, 30003, 7),\n",
    "('E1009', 'Andrea', 'Jones', 123414, '1990-09-07', 'F', '120 Fall Creek, Gary,IL', 234, 70000, 30003, 7),\n",
    "('E1010', 'Ann', 'Jacob', 123415, '1982-03-30', 'F', '111 Britany Springs,Elgin,IL', 220, 70000, 30004, 5);\n"
   ]
  },
  {
   "cell_type": "code",
   "execution_count": 16,
   "metadata": {},
   "outputs": [
    {
     "name": "stdout",
     "output_type": "stream",
     "text": [
      " * sqlite:///HR.db\n",
      "Done.\n"
     ]
    },
    {
     "data": {
      "text/html": [
       "<table>\n",
       "    <thead>\n",
       "        <tr>\n",
       "            <th>emp_id</th>\n",
       "            <th>f_name</th>\n",
       "            <th>l_name</th>\n",
       "            <th>ssn</th>\n",
       "            <th>b_date</th>\n",
       "            <th>sex</th>\n",
       "            <th>address</th>\n",
       "            <th>job_id</th>\n",
       "            <th>salary</th>\n",
       "            <th>manager_id</th>\n",
       "            <th>dept_id</th>\n",
       "        </tr>\n",
       "    </thead>\n",
       "    <tbody>\n",
       "        <tr>\n",
       "            <td>E1001</td>\n",
       "            <td>John</td>\n",
       "            <td>Thomas</td>\n",
       "            <td>123456</td>\n",
       "            <td>1976-09-01</td>\n",
       "            <td>M</td>\n",
       "            <td>5631 Rice, OakPark,IL</td>\n",
       "            <td>100</td>\n",
       "            <td>100000</td>\n",
       "            <td>30001</td>\n",
       "            <td>2</td>\n",
       "        </tr>\n",
       "        <tr>\n",
       "            <td>E1002</td>\n",
       "            <td>Alice</td>\n",
       "            <td>James</td>\n",
       "            <td>123457</td>\n",
       "            <td>1972-07-31</td>\n",
       "            <td>F</td>\n",
       "            <td>980 Berry ln, Elgin,IL</td>\n",
       "            <td>200</td>\n",
       "            <td>80000</td>\n",
       "            <td>30002</td>\n",
       "            <td>5</td>\n",
       "        </tr>\n",
       "        <tr>\n",
       "            <td>E1003</td>\n",
       "            <td>Steve</td>\n",
       "            <td>Wells</td>\n",
       "            <td>123458</td>\n",
       "            <td>1980-10-08</td>\n",
       "            <td>M</td>\n",
       "            <td>291 Springs, Gary,IL</td>\n",
       "            <td>300</td>\n",
       "            <td>50000</td>\n",
       "            <td>30002</td>\n",
       "            <td>5</td>\n",
       "        </tr>\n",
       "        <tr>\n",
       "            <td>E1004</td>\n",
       "            <td>Santosh</td>\n",
       "            <td>Kumar</td>\n",
       "            <td>123459</td>\n",
       "            <td>1985-07-20</td>\n",
       "            <td>M</td>\n",
       "            <td>511 Aurora Av, Aurora,IL</td>\n",
       "            <td>400</td>\n",
       "            <td>60000</td>\n",
       "            <td>30004</td>\n",
       "            <td>5</td>\n",
       "        </tr>\n",
       "        <tr>\n",
       "            <td>E1005</td>\n",
       "            <td>Ahmed</td>\n",
       "            <td>Hussain</td>\n",
       "            <td>123410</td>\n",
       "            <td>1981-04-01</td>\n",
       "            <td>M</td>\n",
       "            <td>216 Oak Tree, Geneva,IL</td>\n",
       "            <td>500</td>\n",
       "            <td>70000</td>\n",
       "            <td>30001</td>\n",
       "            <td>2</td>\n",
       "        </tr>\n",
       "        <tr>\n",
       "            <td>E1006</td>\n",
       "            <td>Nancy</td>\n",
       "            <td>Allen</td>\n",
       "            <td>123411</td>\n",
       "            <td>1978-06-02</td>\n",
       "            <td>F</td>\n",
       "            <td>111 Green Pl, Elgin,IL</td>\n",
       "            <td>600</td>\n",
       "            <td>90000</td>\n",
       "            <td>30001</td>\n",
       "            <td>2</td>\n",
       "        </tr>\n",
       "        <tr>\n",
       "            <td>E1007</td>\n",
       "            <td>Mary</td>\n",
       "            <td>Thomas</td>\n",
       "            <td>123412</td>\n",
       "            <td>1975-05-05</td>\n",
       "            <td>F</td>\n",
       "            <td>100 Rose Pl, Gary,IL</td>\n",
       "            <td>650</td>\n",
       "            <td>65000</td>\n",
       "            <td>30003</td>\n",
       "            <td>7</td>\n",
       "        </tr>\n",
       "        <tr>\n",
       "            <td>E1008</td>\n",
       "            <td>Bharath</td>\n",
       "            <td>Gupta</td>\n",
       "            <td>123413</td>\n",
       "            <td>1985-06-05</td>\n",
       "            <td>M</td>\n",
       "            <td>145 Berry Ln, Naperville,IL</td>\n",
       "            <td>660</td>\n",
       "            <td>65000</td>\n",
       "            <td>30003</td>\n",
       "            <td>7</td>\n",
       "        </tr>\n",
       "        <tr>\n",
       "            <td>E1009</td>\n",
       "            <td>Andrea</td>\n",
       "            <td>Jones</td>\n",
       "            <td>123414</td>\n",
       "            <td>1990-09-07</td>\n",
       "            <td>F</td>\n",
       "            <td>120 Fall Creek, Gary,IL</td>\n",
       "            <td>234</td>\n",
       "            <td>70000</td>\n",
       "            <td>30003</td>\n",
       "            <td>7</td>\n",
       "        </tr>\n",
       "        <tr>\n",
       "            <td>E1010</td>\n",
       "            <td>Ann</td>\n",
       "            <td>Jacob</td>\n",
       "            <td>123415</td>\n",
       "            <td>1982-03-30</td>\n",
       "            <td>F</td>\n",
       "            <td>111 Britany Springs,Elgin,IL</td>\n",
       "            <td>220</td>\n",
       "            <td>70000</td>\n",
       "            <td>30004</td>\n",
       "            <td>5</td>\n",
       "        </tr>\n",
       "    </tbody>\n",
       "</table>"
      ],
      "text/plain": [
       "[('E1001', 'John', 'Thomas', 123456, '1976-09-01', 'M', '5631 Rice, OakPark,IL', 100, 100000, 30001, 2),\n",
       " ('E1002', 'Alice', 'James', 123457, '1972-07-31', 'F', '980 Berry ln, Elgin,IL', 200, 80000, 30002, 5),\n",
       " ('E1003', 'Steve', 'Wells', 123458, '1980-10-08', 'M', '291 Springs, Gary,IL', 300, 50000, 30002, 5),\n",
       " ('E1004', 'Santosh', 'Kumar', 123459, '1985-07-20', 'M', '511 Aurora Av, Aurora,IL', 400, 60000, 30004, 5),\n",
       " ('E1005', 'Ahmed', 'Hussain', 123410, '1981-04-01', 'M', '216 Oak Tree, Geneva,IL', 500, 70000, 30001, 2),\n",
       " ('E1006', 'Nancy', 'Allen', 123411, '1978-06-02', 'F', '111 Green Pl, Elgin,IL', 600, 90000, 30001, 2),\n",
       " ('E1007', 'Mary', 'Thomas', 123412, '1975-05-05', 'F', '100 Rose Pl, Gary,IL', 650, 65000, 30003, 7),\n",
       " ('E1008', 'Bharath', 'Gupta', 123413, '1985-06-05', 'M', '145 Berry Ln, Naperville,IL', 660, 65000, 30003, 7),\n",
       " ('E1009', 'Andrea', 'Jones', 123414, '1990-09-07', 'F', '120 Fall Creek, Gary,IL', 234, 70000, 30003, 7),\n",
       " ('E1010', 'Ann', 'Jacob', 123415, '1982-03-30', 'F', '111 Britany Springs,Elgin,IL', 220, 70000, 30004, 5)]"
      ]
     },
     "execution_count": 16,
     "metadata": {},
     "output_type": "execute_result"
    }
   ],
   "source": [
    "%sql select * from employees"
   ]
  },
  {
   "cell_type": "code",
   "execution_count": 17,
   "metadata": {},
   "outputs": [
    {
     "name": "stdout",
     "output_type": "stream",
     "text": [
      " * sqlite:///HR.db\n",
      "Done.\n"
     ]
    },
    {
     "data": {
      "text/plain": [
       "[]"
      ]
     },
     "execution_count": 17,
     "metadata": {},
     "output_type": "execute_result"
    }
   ],
   "source": [
    "%%sql\n",
    "CREATE TABLE job_history (\n",
    "    emp_id CHAR(20) NOT NULL,\n",
    "    start_date DATE NOT NULL,\n",
    "    job_id INTEGER NOT NULL,\n",
    "    dept_id INTEGER NOT NULL,\n",
    "    PRIMARY KEY (emp_id, start_date)\n",
    ");\n"
   ]
  },
  {
   "cell_type": "code",
   "execution_count": 18,
   "metadata": {},
   "outputs": [
    {
     "name": "stdout",
     "output_type": "stream",
     "text": [
      " * sqlite:///HR.db\n",
      "10 rows affected.\n"
     ]
    },
    {
     "data": {
      "text/plain": [
       "[]"
      ]
     },
     "execution_count": 18,
     "metadata": {},
     "output_type": "execute_result"
    }
   ],
   "source": [
    "%%sql\n",
    "INSERT INTO job_history (emp_id, start_date, job_id, dept_id) VALUES\n",
    "('E1001', '2000-01-08', 100, 2),\n",
    "('E1002', '2001-01-08', 200, 5),\n",
    "('E1003', '2001-08-16', 300, 5),\n",
    "('E1004', '2001-08-16', 400, 5),\n",
    "('E1005', '2000-05-30', 500, 2),\n",
    "('E1006', '2001-08-16', 600, 2),\n",
    "('E1007', '2002-05-30', 650, 7),\n",
    "('E1008', '2010-06-05', 660, 7),\n",
    "('E1009', '2016-08-16', 234, 7),\n",
    "('E1010', '2016-08-16', 220, 5);\n"
   ]
  },
  {
   "cell_type": "code",
   "execution_count": 19,
   "metadata": {},
   "outputs": [
    {
     "name": "stdout",
     "output_type": "stream",
     "text": [
      " * sqlite:///HR.db\n",
      "Done.\n"
     ]
    },
    {
     "data": {
      "text/html": [
       "<table>\n",
       "    <thead>\n",
       "        <tr>\n",
       "            <th>emp_id</th>\n",
       "            <th>start_date</th>\n",
       "            <th>job_id</th>\n",
       "            <th>dept_id</th>\n",
       "        </tr>\n",
       "    </thead>\n",
       "    <tbody>\n",
       "        <tr>\n",
       "            <td>E1001</td>\n",
       "            <td>2000-01-08</td>\n",
       "            <td>100</td>\n",
       "            <td>2</td>\n",
       "        </tr>\n",
       "        <tr>\n",
       "            <td>E1002</td>\n",
       "            <td>2001-01-08</td>\n",
       "            <td>200</td>\n",
       "            <td>5</td>\n",
       "        </tr>\n",
       "        <tr>\n",
       "            <td>E1003</td>\n",
       "            <td>2001-08-16</td>\n",
       "            <td>300</td>\n",
       "            <td>5</td>\n",
       "        </tr>\n",
       "        <tr>\n",
       "            <td>E1004</td>\n",
       "            <td>2001-08-16</td>\n",
       "            <td>400</td>\n",
       "            <td>5</td>\n",
       "        </tr>\n",
       "        <tr>\n",
       "            <td>E1005</td>\n",
       "            <td>2000-05-30</td>\n",
       "            <td>500</td>\n",
       "            <td>2</td>\n",
       "        </tr>\n",
       "        <tr>\n",
       "            <td>E1006</td>\n",
       "            <td>2001-08-16</td>\n",
       "            <td>600</td>\n",
       "            <td>2</td>\n",
       "        </tr>\n",
       "        <tr>\n",
       "            <td>E1007</td>\n",
       "            <td>2002-05-30</td>\n",
       "            <td>650</td>\n",
       "            <td>7</td>\n",
       "        </tr>\n",
       "        <tr>\n",
       "            <td>E1008</td>\n",
       "            <td>2010-06-05</td>\n",
       "            <td>660</td>\n",
       "            <td>7</td>\n",
       "        </tr>\n",
       "        <tr>\n",
       "            <td>E1009</td>\n",
       "            <td>2016-08-16</td>\n",
       "            <td>234</td>\n",
       "            <td>7</td>\n",
       "        </tr>\n",
       "        <tr>\n",
       "            <td>E1010</td>\n",
       "            <td>2016-08-16</td>\n",
       "            <td>220</td>\n",
       "            <td>5</td>\n",
       "        </tr>\n",
       "    </tbody>\n",
       "</table>"
      ],
      "text/plain": [
       "[('E1001', '2000-01-08', 100, 2),\n",
       " ('E1002', '2001-01-08', 200, 5),\n",
       " ('E1003', '2001-08-16', 300, 5),\n",
       " ('E1004', '2001-08-16', 400, 5),\n",
       " ('E1005', '2000-05-30', 500, 2),\n",
       " ('E1006', '2001-08-16', 600, 2),\n",
       " ('E1007', '2002-05-30', 650, 7),\n",
       " ('E1008', '2010-06-05', 660, 7),\n",
       " ('E1009', '2016-08-16', 234, 7),\n",
       " ('E1010', '2016-08-16', 220, 5)]"
      ]
     },
     "execution_count": 19,
     "metadata": {},
     "output_type": "execute_result"
    }
   ],
   "source": [
    "%sql select * from job_history;"
   ]
  },
  {
   "cell_type": "code",
   "execution_count": 21,
   "metadata": {},
   "outputs": [
    {
     "name": "stdout",
     "output_type": "stream",
     "text": [
      " * sqlite:///HR.db\n",
      "Done.\n",
      "10 rows affected.\n"
     ]
    },
    {
     "data": {
      "text/plain": [
       "[]"
      ]
     },
     "execution_count": 21,
     "metadata": {},
     "output_type": "execute_result"
    }
   ],
   "source": [
    "%%sql\n",
    "CREATE TABLE jobs (\n",
    "    job_id INTEGER PRIMARY KEY,\n",
    "    job_title VARCHAR(50) NOT NULL,\n",
    "    min_salary INTEGER NOT NULL,\n",
    "    max_salary INTEGER NOT NULL\n",
    ");\n",
    "INSERT INTO jobs (job_id, job_title, min_salary, max_salary) VALUES\n",
    "(100, 'Sr. Architect', 60000, 100000),\n",
    "(200, 'Sr. Software Developer', 60000, 80000),\n",
    "(300, 'Jr. Software Developer', 40000, 60000),\n",
    "(400, 'Jr. Software Developer', 40000, 60000),\n",
    "(500, 'Jr. Architect', 50000, 70000),\n",
    "(600, 'Lead Architect', 70000, 100000),\n",
    "(650, 'Jr. Designer', 60000, 70000),\n",
    "(660, 'Jr. Designer', 60000, 70000),\n",
    "(234, 'Sr. Designer', 70000, 90000),\n",
    "(220, 'Sr. Designer', 70000, 90000);\n",
    "\n"
   ]
  },
  {
   "cell_type": "code",
   "execution_count": 22,
   "metadata": {},
   "outputs": [
    {
     "name": "stdout",
     "output_type": "stream",
     "text": [
      " * sqlite:///HR.db\n",
      "Done.\n"
     ]
    },
    {
     "data": {
      "text/html": [
       "<table>\n",
       "    <thead>\n",
       "        <tr>\n",
       "            <th>job_id</th>\n",
       "            <th>job_title</th>\n",
       "            <th>min_salary</th>\n",
       "            <th>max_salary</th>\n",
       "        </tr>\n",
       "    </thead>\n",
       "    <tbody>\n",
       "        <tr>\n",
       "            <td>100</td>\n",
       "            <td>Sr. Architect</td>\n",
       "            <td>60000</td>\n",
       "            <td>100000</td>\n",
       "        </tr>\n",
       "        <tr>\n",
       "            <td>200</td>\n",
       "            <td>Sr. Software Developer</td>\n",
       "            <td>60000</td>\n",
       "            <td>80000</td>\n",
       "        </tr>\n",
       "        <tr>\n",
       "            <td>220</td>\n",
       "            <td>Sr. Designer</td>\n",
       "            <td>70000</td>\n",
       "            <td>90000</td>\n",
       "        </tr>\n",
       "        <tr>\n",
       "            <td>234</td>\n",
       "            <td>Sr. Designer</td>\n",
       "            <td>70000</td>\n",
       "            <td>90000</td>\n",
       "        </tr>\n",
       "        <tr>\n",
       "            <td>300</td>\n",
       "            <td>Jr. Software Developer</td>\n",
       "            <td>40000</td>\n",
       "            <td>60000</td>\n",
       "        </tr>\n",
       "        <tr>\n",
       "            <td>400</td>\n",
       "            <td>Jr. Software Developer</td>\n",
       "            <td>40000</td>\n",
       "            <td>60000</td>\n",
       "        </tr>\n",
       "        <tr>\n",
       "            <td>500</td>\n",
       "            <td>Jr. Architect</td>\n",
       "            <td>50000</td>\n",
       "            <td>70000</td>\n",
       "        </tr>\n",
       "        <tr>\n",
       "            <td>600</td>\n",
       "            <td>Lead Architect</td>\n",
       "            <td>70000</td>\n",
       "            <td>100000</td>\n",
       "        </tr>\n",
       "        <tr>\n",
       "            <td>650</td>\n",
       "            <td>Jr. Designer</td>\n",
       "            <td>60000</td>\n",
       "            <td>70000</td>\n",
       "        </tr>\n",
       "        <tr>\n",
       "            <td>660</td>\n",
       "            <td>Jr. Designer</td>\n",
       "            <td>60000</td>\n",
       "            <td>70000</td>\n",
       "        </tr>\n",
       "    </tbody>\n",
       "</table>"
      ],
      "text/plain": [
       "[(100, 'Sr. Architect', 60000, 100000),\n",
       " (200, 'Sr. Software Developer', 60000, 80000),\n",
       " (220, 'Sr. Designer', 70000, 90000),\n",
       " (234, 'Sr. Designer', 70000, 90000),\n",
       " (300, 'Jr. Software Developer', 40000, 60000),\n",
       " (400, 'Jr. Software Developer', 40000, 60000),\n",
       " (500, 'Jr. Architect', 50000, 70000),\n",
       " (600, 'Lead Architect', 70000, 100000),\n",
       " (650, 'Jr. Designer', 60000, 70000),\n",
       " (660, 'Jr. Designer', 60000, 70000)]"
      ]
     },
     "execution_count": 22,
     "metadata": {},
     "output_type": "execute_result"
    }
   ],
   "source": [
    "%sql select * from jobs;"
   ]
  },
  {
   "cell_type": "code",
   "execution_count": 23,
   "metadata": {},
   "outputs": [
    {
     "name": "stdout",
     "output_type": "stream",
     "text": [
      " * sqlite:///HR.db\n",
      "Done.\n",
      "3 rows affected.\n"
     ]
    },
    {
     "data": {
      "text/plain": [
       "[]"
      ]
     },
     "execution_count": 23,
     "metadata": {},
     "output_type": "execute_result"
    }
   ],
   "source": [
    "%%sql\n",
    "CREATE TABLE locations (\n",
    "    location_id CHAR(10) PRIMARY KEY,\n",
    "    dept_id INTEGER NOT NULL\n",
    ");\n",
    "INSERT INTO locations (location_id, dept_id) VALUES\n",
    "('L0001', 2),\n",
    "('L0002', 5),\n",
    "('L0003', 7);\n",
    "\n"
   ]
  },
  {
   "cell_type": "code",
   "execution_count": 25,
   "metadata": {},
   "outputs": [
    {
     "name": "stdout",
     "output_type": "stream",
     "text": [
      " * sqlite:///HR.db\n",
      "Done.\n"
     ]
    },
    {
     "data": {
      "text/html": [
       "<table>\n",
       "    <thead>\n",
       "        <tr>\n",
       "            <th>location_id</th>\n",
       "            <th>dept_id</th>\n",
       "        </tr>\n",
       "    </thead>\n",
       "    <tbody>\n",
       "        <tr>\n",
       "            <td>L0001</td>\n",
       "            <td>2</td>\n",
       "        </tr>\n",
       "        <tr>\n",
       "            <td>L0002</td>\n",
       "            <td>5</td>\n",
       "        </tr>\n",
       "        <tr>\n",
       "            <td>L0003</td>\n",
       "            <td>7</td>\n",
       "        </tr>\n",
       "    </tbody>\n",
       "</table>"
      ],
      "text/plain": [
       "[('L0001', 2), ('L0002', 5), ('L0003', 7)]"
      ]
     },
     "execution_count": 25,
     "metadata": {},
     "output_type": "execute_result"
    }
   ],
   "source": [
    "%sql select * from locations"
   ]
  },
  {
   "cell_type": "code",
   "execution_count": 26,
   "metadata": {},
   "outputs": [
    {
     "name": "stdout",
     "output_type": "stream",
     "text": [
      " * sqlite:///HR.db\n",
      "Done.\n",
      "3 rows affected.\n"
     ]
    },
    {
     "data": {
      "text/plain": [
       "[]"
      ]
     },
     "execution_count": 26,
     "metadata": {},
     "output_type": "execute_result"
    }
   ],
   "source": [
    "%%sql\n",
    "CREATE TABLE departments (\n",
    "    dept_id INTEGER PRIMARY KEY,\n",
    "    dept_name VARCHAR(50) NOT NULL,\n",
    "    manager_id INTEGER NOT NULL,\n",
    "    location_id CHAR(10) NOT NULL,\n",
    "    FOREIGN KEY (location_id) REFERENCES locations(location_id)\n",
    ");\n",
    "INSERT INTO departments (dept_id, dept_name, manager_id, location_id) VALUES\n",
    "(2, 'Architect Group', 30001, 'L0001'),\n",
    "(5, 'Software Group', 30002, 'L0002'),\n",
    "(7, 'Design Team', 30003, 'L0003');\n",
    "\n"
   ]
  },
  {
   "cell_type": "code",
   "execution_count": 27,
   "metadata": {},
   "outputs": [
    {
     "name": "stdout",
     "output_type": "stream",
     "text": [
      " * sqlite:///HR.db\n",
      "Done.\n"
     ]
    },
    {
     "data": {
      "text/html": [
       "<table>\n",
       "    <thead>\n",
       "        <tr>\n",
       "            <th>dept_id</th>\n",
       "            <th>dept_name</th>\n",
       "            <th>manager_id</th>\n",
       "            <th>location_id</th>\n",
       "        </tr>\n",
       "    </thead>\n",
       "    <tbody>\n",
       "        <tr>\n",
       "            <td>2</td>\n",
       "            <td>Architect Group</td>\n",
       "            <td>30001</td>\n",
       "            <td>L0001</td>\n",
       "        </tr>\n",
       "        <tr>\n",
       "            <td>5</td>\n",
       "            <td>Software Group</td>\n",
       "            <td>30002</td>\n",
       "            <td>L0002</td>\n",
       "        </tr>\n",
       "        <tr>\n",
       "            <td>7</td>\n",
       "            <td>Design Team</td>\n",
       "            <td>30003</td>\n",
       "            <td>L0003</td>\n",
       "        </tr>\n",
       "    </tbody>\n",
       "</table>"
      ],
      "text/plain": [
       "[(2, 'Architect Group', 30001, 'L0001'),\n",
       " (5, 'Software Group', 30002, 'L0002'),\n",
       " (7, 'Design Team', 30003, 'L0003')]"
      ]
     },
     "execution_count": 27,
     "metadata": {},
     "output_type": "execute_result"
    }
   ],
   "source": [
    "%sql select * from departments;"
   ]
  },
  {
   "cell_type": "code",
   "execution_count": 28,
   "metadata": {},
   "outputs": [
    {
     "name": "stdout",
     "output_type": "stream",
     "text": [
      " * sqlite:///HR.db\n",
      "Done.\n"
     ]
    },
    {
     "data": {
      "text/html": [
       "<table>\n",
       "    <thead>\n",
       "        <tr>\n",
       "            <th>name</th>\n",
       "        </tr>\n",
       "    </thead>\n",
       "    <tbody>\n",
       "        <tr>\n",
       "            <td>employees</td>\n",
       "        </tr>\n",
       "        <tr>\n",
       "            <td>job_history</td>\n",
       "        </tr>\n",
       "        <tr>\n",
       "            <td>jobs</td>\n",
       "        </tr>\n",
       "        <tr>\n",
       "            <td>locations</td>\n",
       "        </tr>\n",
       "        <tr>\n",
       "            <td>departments</td>\n",
       "        </tr>\n",
       "    </tbody>\n",
       "</table>"
      ],
      "text/plain": [
       "[('employees',), ('job_history',), ('jobs',), ('locations',), ('departments',)]"
      ]
     },
     "execution_count": 28,
     "metadata": {},
     "output_type": "execute_result"
    }
   ],
   "source": [
    "%sql select name from sqlite_master where type=\"table\";"
   ]
  },
  {
   "cell_type": "code",
   "execution_count": 29,
   "metadata": {},
   "outputs": [
    {
     "name": "stdout",
     "output_type": "stream",
     "text": [
      " * sqlite:///HR.db\n",
      "Done.\n"
     ]
    },
    {
     "data": {
      "text/html": [
       "<table>\n",
       "    <thead>\n",
       "        <tr>\n",
       "            <th>emp_id</th>\n",
       "            <th>f_name</th>\n",
       "            <th>l_name</th>\n",
       "            <th>ssn</th>\n",
       "            <th>b_date</th>\n",
       "            <th>sex</th>\n",
       "            <th>address</th>\n",
       "            <th>job_id</th>\n",
       "            <th>salary</th>\n",
       "            <th>manager_id</th>\n",
       "            <th>dept_id</th>\n",
       "        </tr>\n",
       "    </thead>\n",
       "    <tbody>\n",
       "        <tr>\n",
       "            <td>E1001</td>\n",
       "            <td>John</td>\n",
       "            <td>Thomas</td>\n",
       "            <td>123456</td>\n",
       "            <td>1976-09-01</td>\n",
       "            <td>M</td>\n",
       "            <td>5631 Rice, OakPark,IL</td>\n",
       "            <td>100</td>\n",
       "            <td>100000</td>\n",
       "            <td>30001</td>\n",
       "            <td>2</td>\n",
       "        </tr>\n",
       "        <tr>\n",
       "            <td>E1002</td>\n",
       "            <td>Alice</td>\n",
       "            <td>James</td>\n",
       "            <td>123457</td>\n",
       "            <td>1972-07-31</td>\n",
       "            <td>F</td>\n",
       "            <td>980 Berry ln, Elgin,IL</td>\n",
       "            <td>200</td>\n",
       "            <td>80000</td>\n",
       "            <td>30002</td>\n",
       "            <td>5</td>\n",
       "        </tr>\n",
       "        <tr>\n",
       "            <td>E1003</td>\n",
       "            <td>Steve</td>\n",
       "            <td>Wells</td>\n",
       "            <td>123458</td>\n",
       "            <td>1980-10-08</td>\n",
       "            <td>M</td>\n",
       "            <td>291 Springs, Gary,IL</td>\n",
       "            <td>300</td>\n",
       "            <td>50000</td>\n",
       "            <td>30002</td>\n",
       "            <td>5</td>\n",
       "        </tr>\n",
       "        <tr>\n",
       "            <td>E1004</td>\n",
       "            <td>Santosh</td>\n",
       "            <td>Kumar</td>\n",
       "            <td>123459</td>\n",
       "            <td>1985-07-20</td>\n",
       "            <td>M</td>\n",
       "            <td>511 Aurora Av, Aurora,IL</td>\n",
       "            <td>400</td>\n",
       "            <td>60000</td>\n",
       "            <td>30004</td>\n",
       "            <td>5</td>\n",
       "        </tr>\n",
       "        <tr>\n",
       "            <td>E1005</td>\n",
       "            <td>Ahmed</td>\n",
       "            <td>Hussain</td>\n",
       "            <td>123410</td>\n",
       "            <td>1981-04-01</td>\n",
       "            <td>M</td>\n",
       "            <td>216 Oak Tree, Geneva,IL</td>\n",
       "            <td>500</td>\n",
       "            <td>70000</td>\n",
       "            <td>30001</td>\n",
       "            <td>2</td>\n",
       "        </tr>\n",
       "        <tr>\n",
       "            <td>E1006</td>\n",
       "            <td>Nancy</td>\n",
       "            <td>Allen</td>\n",
       "            <td>123411</td>\n",
       "            <td>1978-06-02</td>\n",
       "            <td>F</td>\n",
       "            <td>111 Green Pl, Elgin,IL</td>\n",
       "            <td>600</td>\n",
       "            <td>90000</td>\n",
       "            <td>30001</td>\n",
       "            <td>2</td>\n",
       "        </tr>\n",
       "        <tr>\n",
       "            <td>E1007</td>\n",
       "            <td>Mary</td>\n",
       "            <td>Thomas</td>\n",
       "            <td>123412</td>\n",
       "            <td>1975-05-05</td>\n",
       "            <td>F</td>\n",
       "            <td>100 Rose Pl, Gary,IL</td>\n",
       "            <td>650</td>\n",
       "            <td>65000</td>\n",
       "            <td>30003</td>\n",
       "            <td>7</td>\n",
       "        </tr>\n",
       "        <tr>\n",
       "            <td>E1008</td>\n",
       "            <td>Bharath</td>\n",
       "            <td>Gupta</td>\n",
       "            <td>123413</td>\n",
       "            <td>1985-06-05</td>\n",
       "            <td>M</td>\n",
       "            <td>145 Berry Ln, Naperville,IL</td>\n",
       "            <td>660</td>\n",
       "            <td>65000</td>\n",
       "            <td>30003</td>\n",
       "            <td>7</td>\n",
       "        </tr>\n",
       "        <tr>\n",
       "            <td>E1009</td>\n",
       "            <td>Andrea</td>\n",
       "            <td>Jones</td>\n",
       "            <td>123414</td>\n",
       "            <td>1990-09-07</td>\n",
       "            <td>F</td>\n",
       "            <td>120 Fall Creek, Gary,IL</td>\n",
       "            <td>234</td>\n",
       "            <td>70000</td>\n",
       "            <td>30003</td>\n",
       "            <td>7</td>\n",
       "        </tr>\n",
       "        <tr>\n",
       "            <td>E1010</td>\n",
       "            <td>Ann</td>\n",
       "            <td>Jacob</td>\n",
       "            <td>123415</td>\n",
       "            <td>1982-03-30</td>\n",
       "            <td>F</td>\n",
       "            <td>111 Britany Springs,Elgin,IL</td>\n",
       "            <td>220</td>\n",
       "            <td>70000</td>\n",
       "            <td>30004</td>\n",
       "            <td>5</td>\n",
       "        </tr>\n",
       "    </tbody>\n",
       "</table>"
      ],
      "text/plain": [
       "[('E1001', 'John', 'Thomas', 123456, '1976-09-01', 'M', '5631 Rice, OakPark,IL', 100, 100000, 30001, 2),\n",
       " ('E1002', 'Alice', 'James', 123457, '1972-07-31', 'F', '980 Berry ln, Elgin,IL', 200, 80000, 30002, 5),\n",
       " ('E1003', 'Steve', 'Wells', 123458, '1980-10-08', 'M', '291 Springs, Gary,IL', 300, 50000, 30002, 5),\n",
       " ('E1004', 'Santosh', 'Kumar', 123459, '1985-07-20', 'M', '511 Aurora Av, Aurora,IL', 400, 60000, 30004, 5),\n",
       " ('E1005', 'Ahmed', 'Hussain', 123410, '1981-04-01', 'M', '216 Oak Tree, Geneva,IL', 500, 70000, 30001, 2),\n",
       " ('E1006', 'Nancy', 'Allen', 123411, '1978-06-02', 'F', '111 Green Pl, Elgin,IL', 600, 90000, 30001, 2),\n",
       " ('E1007', 'Mary', 'Thomas', 123412, '1975-05-05', 'F', '100 Rose Pl, Gary,IL', 650, 65000, 30003, 7),\n",
       " ('E1008', 'Bharath', 'Gupta', 123413, '1985-06-05', 'M', '145 Berry Ln, Naperville,IL', 660, 65000, 30003, 7),\n",
       " ('E1009', 'Andrea', 'Jones', 123414, '1990-09-07', 'F', '120 Fall Creek, Gary,IL', 234, 70000, 30003, 7),\n",
       " ('E1010', 'Ann', 'Jacob', 123415, '1982-03-30', 'F', '111 Britany Springs,Elgin,IL', 220, 70000, 30004, 5)]"
      ]
     },
     "execution_count": 29,
     "metadata": {},
     "output_type": "execute_result"
    }
   ],
   "source": [
    "%sql select * from employees"
   ]
  },
  {
   "cell_type": "code",
   "execution_count": 30,
   "metadata": {},
   "outputs": [
    {
     "name": "stdout",
     "output_type": "stream",
     "text": [
      " * sqlite:///HR.db\n",
      "Done.\n"
     ]
    },
    {
     "data": {
      "text/plain": [
       "[]"
      ]
     },
     "execution_count": 30,
     "metadata": {},
     "output_type": "execute_result"
    }
   ],
   "source": [
    "%%sql\n",
    "create view empinfo as select emp_id,f_name,l_name,b_date,sex,salary from employees;"
   ]
  },
  {
   "cell_type": "code",
   "execution_count": 31,
   "metadata": {},
   "outputs": [
    {
     "name": "stdout",
     "output_type": "stream",
     "text": [
      " * sqlite:///HR.db\n",
      "Done.\n"
     ]
    },
    {
     "data": {
      "text/html": [
       "<table>\n",
       "    <thead>\n",
       "        <tr>\n",
       "            <th>emp_id</th>\n",
       "            <th>f_name</th>\n",
       "            <th>l_name</th>\n",
       "            <th>b_date</th>\n",
       "            <th>sex</th>\n",
       "            <th>salary</th>\n",
       "        </tr>\n",
       "    </thead>\n",
       "    <tbody>\n",
       "        <tr>\n",
       "            <td>E1001</td>\n",
       "            <td>John</td>\n",
       "            <td>Thomas</td>\n",
       "            <td>1976-09-01</td>\n",
       "            <td>M</td>\n",
       "            <td>100000</td>\n",
       "        </tr>\n",
       "        <tr>\n",
       "            <td>E1002</td>\n",
       "            <td>Alice</td>\n",
       "            <td>James</td>\n",
       "            <td>1972-07-31</td>\n",
       "            <td>F</td>\n",
       "            <td>80000</td>\n",
       "        </tr>\n",
       "        <tr>\n",
       "            <td>E1003</td>\n",
       "            <td>Steve</td>\n",
       "            <td>Wells</td>\n",
       "            <td>1980-10-08</td>\n",
       "            <td>M</td>\n",
       "            <td>50000</td>\n",
       "        </tr>\n",
       "        <tr>\n",
       "            <td>E1004</td>\n",
       "            <td>Santosh</td>\n",
       "            <td>Kumar</td>\n",
       "            <td>1985-07-20</td>\n",
       "            <td>M</td>\n",
       "            <td>60000</td>\n",
       "        </tr>\n",
       "        <tr>\n",
       "            <td>E1005</td>\n",
       "            <td>Ahmed</td>\n",
       "            <td>Hussain</td>\n",
       "            <td>1981-04-01</td>\n",
       "            <td>M</td>\n",
       "            <td>70000</td>\n",
       "        </tr>\n",
       "        <tr>\n",
       "            <td>E1006</td>\n",
       "            <td>Nancy</td>\n",
       "            <td>Allen</td>\n",
       "            <td>1978-06-02</td>\n",
       "            <td>F</td>\n",
       "            <td>90000</td>\n",
       "        </tr>\n",
       "        <tr>\n",
       "            <td>E1007</td>\n",
       "            <td>Mary</td>\n",
       "            <td>Thomas</td>\n",
       "            <td>1975-05-05</td>\n",
       "            <td>F</td>\n",
       "            <td>65000</td>\n",
       "        </tr>\n",
       "        <tr>\n",
       "            <td>E1008</td>\n",
       "            <td>Bharath</td>\n",
       "            <td>Gupta</td>\n",
       "            <td>1985-06-05</td>\n",
       "            <td>M</td>\n",
       "            <td>65000</td>\n",
       "        </tr>\n",
       "        <tr>\n",
       "            <td>E1009</td>\n",
       "            <td>Andrea</td>\n",
       "            <td>Jones</td>\n",
       "            <td>1990-09-07</td>\n",
       "            <td>F</td>\n",
       "            <td>70000</td>\n",
       "        </tr>\n",
       "        <tr>\n",
       "            <td>E1010</td>\n",
       "            <td>Ann</td>\n",
       "            <td>Jacob</td>\n",
       "            <td>1982-03-30</td>\n",
       "            <td>F</td>\n",
       "            <td>70000</td>\n",
       "        </tr>\n",
       "    </tbody>\n",
       "</table>"
      ],
      "text/plain": [
       "[('E1001', 'John', 'Thomas', '1976-09-01', 'M', 100000),\n",
       " ('E1002', 'Alice', 'James', '1972-07-31', 'F', 80000),\n",
       " ('E1003', 'Steve', 'Wells', '1980-10-08', 'M', 50000),\n",
       " ('E1004', 'Santosh', 'Kumar', '1985-07-20', 'M', 60000),\n",
       " ('E1005', 'Ahmed', 'Hussain', '1981-04-01', 'M', 70000),\n",
       " ('E1006', 'Nancy', 'Allen', '1978-06-02', 'F', 90000),\n",
       " ('E1007', 'Mary', 'Thomas', '1975-05-05', 'F', 65000),\n",
       " ('E1008', 'Bharath', 'Gupta', '1985-06-05', 'M', 65000),\n",
       " ('E1009', 'Andrea', 'Jones', '1990-09-07', 'F', 70000),\n",
       " ('E1010', 'Ann', 'Jacob', '1982-03-30', 'F', 70000)]"
      ]
     },
     "execution_count": 31,
     "metadata": {},
     "output_type": "execute_result"
    }
   ],
   "source": [
    "%sql select * from empinfo"
   ]
  },
  {
   "cell_type": "code",
   "execution_count": 32,
   "metadata": {},
   "outputs": [
    {
     "name": "stdout",
     "output_type": "stream",
     "text": [
      " * sqlite:///HR.db\n",
      "Done.\n"
     ]
    },
    {
     "data": {
      "text/html": [
       "<table>\n",
       "    <thead>\n",
       "        <tr>\n",
       "            <th>job_id</th>\n",
       "            <th>job_title</th>\n",
       "            <th>min_salary</th>\n",
       "            <th>max_salary</th>\n",
       "        </tr>\n",
       "    </thead>\n",
       "    <tbody>\n",
       "        <tr>\n",
       "            <td>100</td>\n",
       "            <td>Sr. Architect</td>\n",
       "            <td>60000</td>\n",
       "            <td>100000</td>\n",
       "        </tr>\n",
       "        <tr>\n",
       "            <td>200</td>\n",
       "            <td>Sr. Software Developer</td>\n",
       "            <td>60000</td>\n",
       "            <td>80000</td>\n",
       "        </tr>\n",
       "        <tr>\n",
       "            <td>220</td>\n",
       "            <td>Sr. Designer</td>\n",
       "            <td>70000</td>\n",
       "            <td>90000</td>\n",
       "        </tr>\n",
       "        <tr>\n",
       "            <td>234</td>\n",
       "            <td>Sr. Designer</td>\n",
       "            <td>70000</td>\n",
       "            <td>90000</td>\n",
       "        </tr>\n",
       "        <tr>\n",
       "            <td>300</td>\n",
       "            <td>Jr. Software Developer</td>\n",
       "            <td>40000</td>\n",
       "            <td>60000</td>\n",
       "        </tr>\n",
       "        <tr>\n",
       "            <td>400</td>\n",
       "            <td>Jr. Software Developer</td>\n",
       "            <td>40000</td>\n",
       "            <td>60000</td>\n",
       "        </tr>\n",
       "        <tr>\n",
       "            <td>500</td>\n",
       "            <td>Jr. Architect</td>\n",
       "            <td>50000</td>\n",
       "            <td>70000</td>\n",
       "        </tr>\n",
       "        <tr>\n",
       "            <td>600</td>\n",
       "            <td>Lead Architect</td>\n",
       "            <td>70000</td>\n",
       "            <td>100000</td>\n",
       "        </tr>\n",
       "        <tr>\n",
       "            <td>650</td>\n",
       "            <td>Jr. Designer</td>\n",
       "            <td>60000</td>\n",
       "            <td>70000</td>\n",
       "        </tr>\n",
       "        <tr>\n",
       "            <td>660</td>\n",
       "            <td>Jr. Designer</td>\n",
       "            <td>60000</td>\n",
       "            <td>70000</td>\n",
       "        </tr>\n",
       "    </tbody>\n",
       "</table>"
      ],
      "text/plain": [
       "[(100, 'Sr. Architect', 60000, 100000),\n",
       " (200, 'Sr. Software Developer', 60000, 80000),\n",
       " (220, 'Sr. Designer', 70000, 90000),\n",
       " (234, 'Sr. Designer', 70000, 90000),\n",
       " (300, 'Jr. Software Developer', 40000, 60000),\n",
       " (400, 'Jr. Software Developer', 40000, 60000),\n",
       " (500, 'Jr. Architect', 50000, 70000),\n",
       " (600, 'Lead Architect', 70000, 100000),\n",
       " (650, 'Jr. Designer', 60000, 70000),\n",
       " (660, 'Jr. Designer', 60000, 70000)]"
      ]
     },
     "execution_count": 32,
     "metadata": {},
     "output_type": "execute_result"
    }
   ],
   "source": [
    "%sql select * from jobs"
   ]
  },
  {
   "cell_type": "code",
   "execution_count": 42,
   "metadata": {},
   "outputs": [
    {
     "name": "stdout",
     "output_type": "stream",
     "text": [
      " * sqlite:///HR.db\n",
      "Done.\n",
      "Done.\n"
     ]
    },
    {
     "data": {
      "text/plain": [
       "[]"
      ]
     },
     "execution_count": 42,
     "metadata": {},
     "output_type": "execute_result"
    }
   ],
   "source": [
    "%%sql\n",
    "drop view if exists empinfo;\n",
    "create view empinfo as select emp_id,f_name,l_name,b_date,sex,job_title,min_salary,max_salary from employees,jobs where employees.job_id=jobs.job_id;"
   ]
  },
  {
   "cell_type": "code",
   "execution_count": 43,
   "metadata": {},
   "outputs": [
    {
     "name": "stdout",
     "output_type": "stream",
     "text": [
      " * sqlite:///HR.db\n",
      "Done.\n"
     ]
    },
    {
     "data": {
      "text/html": [
       "<table>\n",
       "    <thead>\n",
       "        <tr>\n",
       "            <th>emp_id</th>\n",
       "            <th>f_name</th>\n",
       "            <th>l_name</th>\n",
       "            <th>b_date</th>\n",
       "            <th>sex</th>\n",
       "            <th>job_title</th>\n",
       "            <th>min_salary</th>\n",
       "            <th>max_salary</th>\n",
       "        </tr>\n",
       "    </thead>\n",
       "    <tbody>\n",
       "        <tr>\n",
       "            <td>E1001</td>\n",
       "            <td>John</td>\n",
       "            <td>Thomas</td>\n",
       "            <td>1976-09-01</td>\n",
       "            <td>M</td>\n",
       "            <td>Sr. Architect</td>\n",
       "            <td>60000</td>\n",
       "            <td>100000</td>\n",
       "        </tr>\n",
       "        <tr>\n",
       "            <td>E1002</td>\n",
       "            <td>Alice</td>\n",
       "            <td>James</td>\n",
       "            <td>1972-07-31</td>\n",
       "            <td>F</td>\n",
       "            <td>Sr. Software Developer</td>\n",
       "            <td>60000</td>\n",
       "            <td>80000</td>\n",
       "        </tr>\n",
       "        <tr>\n",
       "            <td>E1003</td>\n",
       "            <td>Steve</td>\n",
       "            <td>Wells</td>\n",
       "            <td>1980-10-08</td>\n",
       "            <td>M</td>\n",
       "            <td>Jr. Software Developer</td>\n",
       "            <td>40000</td>\n",
       "            <td>60000</td>\n",
       "        </tr>\n",
       "        <tr>\n",
       "            <td>E1004</td>\n",
       "            <td>Santosh</td>\n",
       "            <td>Kumar</td>\n",
       "            <td>1985-07-20</td>\n",
       "            <td>M</td>\n",
       "            <td>Jr. Software Developer</td>\n",
       "            <td>40000</td>\n",
       "            <td>60000</td>\n",
       "        </tr>\n",
       "        <tr>\n",
       "            <td>E1005</td>\n",
       "            <td>Ahmed</td>\n",
       "            <td>Hussain</td>\n",
       "            <td>1981-04-01</td>\n",
       "            <td>M</td>\n",
       "            <td>Jr. Architect</td>\n",
       "            <td>50000</td>\n",
       "            <td>70000</td>\n",
       "        </tr>\n",
       "        <tr>\n",
       "            <td>E1006</td>\n",
       "            <td>Nancy</td>\n",
       "            <td>Allen</td>\n",
       "            <td>1978-06-02</td>\n",
       "            <td>F</td>\n",
       "            <td>Lead Architect</td>\n",
       "            <td>70000</td>\n",
       "            <td>100000</td>\n",
       "        </tr>\n",
       "        <tr>\n",
       "            <td>E1007</td>\n",
       "            <td>Mary</td>\n",
       "            <td>Thomas</td>\n",
       "            <td>1975-05-05</td>\n",
       "            <td>F</td>\n",
       "            <td>Jr. Designer</td>\n",
       "            <td>60000</td>\n",
       "            <td>70000</td>\n",
       "        </tr>\n",
       "        <tr>\n",
       "            <td>E1008</td>\n",
       "            <td>Bharath</td>\n",
       "            <td>Gupta</td>\n",
       "            <td>1985-06-05</td>\n",
       "            <td>M</td>\n",
       "            <td>Jr. Designer</td>\n",
       "            <td>60000</td>\n",
       "            <td>70000</td>\n",
       "        </tr>\n",
       "        <tr>\n",
       "            <td>E1009</td>\n",
       "            <td>Andrea</td>\n",
       "            <td>Jones</td>\n",
       "            <td>1990-09-07</td>\n",
       "            <td>F</td>\n",
       "            <td>Sr. Designer</td>\n",
       "            <td>70000</td>\n",
       "            <td>90000</td>\n",
       "        </tr>\n",
       "        <tr>\n",
       "            <td>E1010</td>\n",
       "            <td>Ann</td>\n",
       "            <td>Jacob</td>\n",
       "            <td>1982-03-30</td>\n",
       "            <td>F</td>\n",
       "            <td>Sr. Designer</td>\n",
       "            <td>70000</td>\n",
       "            <td>90000</td>\n",
       "        </tr>\n",
       "    </tbody>\n",
       "</table>"
      ],
      "text/plain": [
       "[('E1001', 'John', 'Thomas', '1976-09-01', 'M', 'Sr. Architect', 60000, 100000),\n",
       " ('E1002', 'Alice', 'James', '1972-07-31', 'F', 'Sr. Software Developer', 60000, 80000),\n",
       " ('E1003', 'Steve', 'Wells', '1980-10-08', 'M', 'Jr. Software Developer', 40000, 60000),\n",
       " ('E1004', 'Santosh', 'Kumar', '1985-07-20', 'M', 'Jr. Software Developer', 40000, 60000),\n",
       " ('E1005', 'Ahmed', 'Hussain', '1981-04-01', 'M', 'Jr. Architect', 50000, 70000),\n",
       " ('E1006', 'Nancy', 'Allen', '1978-06-02', 'F', 'Lead Architect', 70000, 100000),\n",
       " ('E1007', 'Mary', 'Thomas', '1975-05-05', 'F', 'Jr. Designer', 60000, 70000),\n",
       " ('E1008', 'Bharath', 'Gupta', '1985-06-05', 'M', 'Jr. Designer', 60000, 70000),\n",
       " ('E1009', 'Andrea', 'Jones', '1990-09-07', 'F', 'Sr. Designer', 70000, 90000),\n",
       " ('E1010', 'Ann', 'Jacob', '1982-03-30', 'F', 'Sr. Designer', 70000, 90000)]"
      ]
     },
     "execution_count": 43,
     "metadata": {},
     "output_type": "execute_result"
    }
   ],
   "source": [
    "%sql select * from empinfo"
   ]
  },
  {
   "cell_type": "code",
   "execution_count": 44,
   "metadata": {},
   "outputs": [
    {
     "name": "stdout",
     "output_type": "stream",
     "text": [
      " * sqlite:///HR.db\n",
      "Done.\n"
     ]
    },
    {
     "data": {
      "text/plain": [
       "[]"
      ]
     },
     "execution_count": 44,
     "metadata": {},
     "output_type": "execute_result"
    }
   ],
   "source": [
    "%%sql\n",
    "create view emp_dept as select emp_id,f_name,l_name,dept_id from employees;"
   ]
  },
  {
   "cell_type": "code",
   "execution_count": 45,
   "metadata": {},
   "outputs": [
    {
     "name": "stdout",
     "output_type": "stream",
     "text": [
      " * sqlite:///HR.db\n",
      "Done.\n"
     ]
    },
    {
     "data": {
      "text/html": [
       "<table>\n",
       "    <thead>\n",
       "        <tr>\n",
       "            <th>emp_id</th>\n",
       "            <th>f_name</th>\n",
       "            <th>l_name</th>\n",
       "            <th>dept_id</th>\n",
       "        </tr>\n",
       "    </thead>\n",
       "    <tbody>\n",
       "        <tr>\n",
       "            <td>E1001</td>\n",
       "            <td>John</td>\n",
       "            <td>Thomas</td>\n",
       "            <td>2</td>\n",
       "        </tr>\n",
       "        <tr>\n",
       "            <td>E1002</td>\n",
       "            <td>Alice</td>\n",
       "            <td>James</td>\n",
       "            <td>5</td>\n",
       "        </tr>\n",
       "        <tr>\n",
       "            <td>E1003</td>\n",
       "            <td>Steve</td>\n",
       "            <td>Wells</td>\n",
       "            <td>5</td>\n",
       "        </tr>\n",
       "        <tr>\n",
       "            <td>E1004</td>\n",
       "            <td>Santosh</td>\n",
       "            <td>Kumar</td>\n",
       "            <td>5</td>\n",
       "        </tr>\n",
       "        <tr>\n",
       "            <td>E1005</td>\n",
       "            <td>Ahmed</td>\n",
       "            <td>Hussain</td>\n",
       "            <td>2</td>\n",
       "        </tr>\n",
       "        <tr>\n",
       "            <td>E1006</td>\n",
       "            <td>Nancy</td>\n",
       "            <td>Allen</td>\n",
       "            <td>2</td>\n",
       "        </tr>\n",
       "        <tr>\n",
       "            <td>E1007</td>\n",
       "            <td>Mary</td>\n",
       "            <td>Thomas</td>\n",
       "            <td>7</td>\n",
       "        </tr>\n",
       "        <tr>\n",
       "            <td>E1008</td>\n",
       "            <td>Bharath</td>\n",
       "            <td>Gupta</td>\n",
       "            <td>7</td>\n",
       "        </tr>\n",
       "        <tr>\n",
       "            <td>E1009</td>\n",
       "            <td>Andrea</td>\n",
       "            <td>Jones</td>\n",
       "            <td>7</td>\n",
       "        </tr>\n",
       "        <tr>\n",
       "            <td>E1010</td>\n",
       "            <td>Ann</td>\n",
       "            <td>Jacob</td>\n",
       "            <td>5</td>\n",
       "        </tr>\n",
       "    </tbody>\n",
       "</table>"
      ],
      "text/plain": [
       "[('E1001', 'John', 'Thomas', 2),\n",
       " ('E1002', 'Alice', 'James', 5),\n",
       " ('E1003', 'Steve', 'Wells', 5),\n",
       " ('E1004', 'Santosh', 'Kumar', 5),\n",
       " ('E1005', 'Ahmed', 'Hussain', 2),\n",
       " ('E1006', 'Nancy', 'Allen', 2),\n",
       " ('E1007', 'Mary', 'Thomas', 7),\n",
       " ('E1008', 'Bharath', 'Gupta', 7),\n",
       " ('E1009', 'Andrea', 'Jones', 7),\n",
       " ('E1010', 'Ann', 'Jacob', 5)]"
      ]
     },
     "execution_count": 45,
     "metadata": {},
     "output_type": "execute_result"
    }
   ],
   "source": [
    "%sql select * from emp_dept;"
   ]
  },
  {
   "cell_type": "code",
   "execution_count": 49,
   "metadata": {},
   "outputs": [
    {
     "name": "stdout",
     "output_type": "stream",
     "text": [
      " * sqlite:///HR.db\n",
      "Done.\n",
      "Done.\n"
     ]
    },
    {
     "data": {
      "text/html": [
       "<table>\n",
       "    <thead>\n",
       "        <tr>\n",
       "            <th>emp_id</th>\n",
       "            <th>f_name</th>\n",
       "            <th>l_name</th>\n",
       "            <th>dept_name</th>\n",
       "        </tr>\n",
       "    </thead>\n",
       "    <tbody>\n",
       "        <tr>\n",
       "            <td>E1001</td>\n",
       "            <td>John</td>\n",
       "            <td>Thomas</td>\n",
       "            <td>Architect Group</td>\n",
       "        </tr>\n",
       "        <tr>\n",
       "            <td>E1002</td>\n",
       "            <td>Alice</td>\n",
       "            <td>James</td>\n",
       "            <td>Software Group</td>\n",
       "        </tr>\n",
       "        <tr>\n",
       "            <td>E1003</td>\n",
       "            <td>Steve</td>\n",
       "            <td>Wells</td>\n",
       "            <td>Software Group</td>\n",
       "        </tr>\n",
       "        <tr>\n",
       "            <td>E1004</td>\n",
       "            <td>Santosh</td>\n",
       "            <td>Kumar</td>\n",
       "            <td>Software Group</td>\n",
       "        </tr>\n",
       "        <tr>\n",
       "            <td>E1005</td>\n",
       "            <td>Ahmed</td>\n",
       "            <td>Hussain</td>\n",
       "            <td>Architect Group</td>\n",
       "        </tr>\n",
       "        <tr>\n",
       "            <td>E1006</td>\n",
       "            <td>Nancy</td>\n",
       "            <td>Allen</td>\n",
       "            <td>Architect Group</td>\n",
       "        </tr>\n",
       "        <tr>\n",
       "            <td>E1007</td>\n",
       "            <td>Mary</td>\n",
       "            <td>Thomas</td>\n",
       "            <td>Design Team</td>\n",
       "        </tr>\n",
       "        <tr>\n",
       "            <td>E1008</td>\n",
       "            <td>Bharath</td>\n",
       "            <td>Gupta</td>\n",
       "            <td>Design Team</td>\n",
       "        </tr>\n",
       "        <tr>\n",
       "            <td>E1009</td>\n",
       "            <td>Andrea</td>\n",
       "            <td>Jones</td>\n",
       "            <td>Design Team</td>\n",
       "        </tr>\n",
       "        <tr>\n",
       "            <td>E1010</td>\n",
       "            <td>Ann</td>\n",
       "            <td>Jacob</td>\n",
       "            <td>Software Group</td>\n",
       "        </tr>\n",
       "    </tbody>\n",
       "</table>"
      ],
      "text/plain": [
       "[('E1001', 'John', 'Thomas', 'Architect Group'),\n",
       " ('E1002', 'Alice', 'James', 'Software Group'),\n",
       " ('E1003', 'Steve', 'Wells', 'Software Group'),\n",
       " ('E1004', 'Santosh', 'Kumar', 'Software Group'),\n",
       " ('E1005', 'Ahmed', 'Hussain', 'Architect Group'),\n",
       " ('E1006', 'Nancy', 'Allen', 'Architect Group'),\n",
       " ('E1007', 'Mary', 'Thomas', 'Design Team'),\n",
       " ('E1008', 'Bharath', 'Gupta', 'Design Team'),\n",
       " ('E1009', 'Andrea', 'Jones', 'Design Team'),\n",
       " ('E1010', 'Ann', 'Jacob', 'Software Group')]"
      ]
     },
     "execution_count": 49,
     "metadata": {},
     "output_type": "execute_result"
    }
   ],
   "source": [
    "%%sql\n",
    "drop view if exists emp_dept;\n",
    "select emp_id,f_name,l_name,dept_name from employees,departments where employees.dept_id=departments.dept_id;"
   ]
  },
  {
   "cell_type": "code",
   "execution_count": 4,
   "metadata": {},
   "outputs": [
    {
     "name": "stdout",
     "output_type": "stream",
     "text": [
      " * sqlite:///HR.db\n",
      "Done.\n"
     ]
    },
    {
     "data": {
      "text/html": [
       "<table>\n",
       "    <thead>\n",
       "        <tr>\n",
       "            <th>emp_id</th>\n",
       "            <th>f_name</th>\n",
       "            <th>l_name</th>\n",
       "            <th>ssn</th>\n",
       "            <th>b_date</th>\n",
       "            <th>sex</th>\n",
       "            <th>address</th>\n",
       "            <th>job_id</th>\n",
       "            <th>salary</th>\n",
       "            <th>manager_id</th>\n",
       "            <th>dept_id</th>\n",
       "        </tr>\n",
       "    </thead>\n",
       "    <tbody>\n",
       "        <tr>\n",
       "            <td>E1001</td>\n",
       "            <td>John</td>\n",
       "            <td>Thomas</td>\n",
       "            <td>123456</td>\n",
       "            <td>1976-09-01</td>\n",
       "            <td>M</td>\n",
       "            <td>5631 Rice, OakPark,IL</td>\n",
       "            <td>100</td>\n",
       "            <td>100000</td>\n",
       "            <td>30001</td>\n",
       "            <td>2</td>\n",
       "        </tr>\n",
       "        <tr>\n",
       "            <td>E1002</td>\n",
       "            <td>Alice</td>\n",
       "            <td>James</td>\n",
       "            <td>123457</td>\n",
       "            <td>1972-07-31</td>\n",
       "            <td>F</td>\n",
       "            <td>980 Berry ln, Elgin,IL</td>\n",
       "            <td>200</td>\n",
       "            <td>80000</td>\n",
       "            <td>30002</td>\n",
       "            <td>5</td>\n",
       "        </tr>\n",
       "        <tr>\n",
       "            <td>E1003</td>\n",
       "            <td>Steve</td>\n",
       "            <td>Wells</td>\n",
       "            <td>123458</td>\n",
       "            <td>1980-10-08</td>\n",
       "            <td>M</td>\n",
       "            <td>291 Springs, Gary,IL</td>\n",
       "            <td>300</td>\n",
       "            <td>50000</td>\n",
       "            <td>30002</td>\n",
       "            <td>5</td>\n",
       "        </tr>\n",
       "        <tr>\n",
       "            <td>E1004</td>\n",
       "            <td>Santosh</td>\n",
       "            <td>Kumar</td>\n",
       "            <td>123459</td>\n",
       "            <td>1985-07-20</td>\n",
       "            <td>M</td>\n",
       "            <td>511 Aurora Av, Aurora,IL</td>\n",
       "            <td>400</td>\n",
       "            <td>60000</td>\n",
       "            <td>30004</td>\n",
       "            <td>5</td>\n",
       "        </tr>\n",
       "        <tr>\n",
       "            <td>E1005</td>\n",
       "            <td>Ahmed</td>\n",
       "            <td>Hussain</td>\n",
       "            <td>123410</td>\n",
       "            <td>1981-04-01</td>\n",
       "            <td>M</td>\n",
       "            <td>216 Oak Tree, Geneva,IL</td>\n",
       "            <td>500</td>\n",
       "            <td>70000</td>\n",
       "            <td>30001</td>\n",
       "            <td>2</td>\n",
       "        </tr>\n",
       "        <tr>\n",
       "            <td>E1006</td>\n",
       "            <td>Nancy</td>\n",
       "            <td>Allen</td>\n",
       "            <td>123411</td>\n",
       "            <td>1978-06-02</td>\n",
       "            <td>F</td>\n",
       "            <td>111 Green Pl, Elgin,IL</td>\n",
       "            <td>600</td>\n",
       "            <td>90000</td>\n",
       "            <td>30001</td>\n",
       "            <td>2</td>\n",
       "        </tr>\n",
       "        <tr>\n",
       "            <td>E1007</td>\n",
       "            <td>Mary</td>\n",
       "            <td>Thomas</td>\n",
       "            <td>123412</td>\n",
       "            <td>1975-05-05</td>\n",
       "            <td>F</td>\n",
       "            <td>100 Rose Pl, Gary,IL</td>\n",
       "            <td>650</td>\n",
       "            <td>65000</td>\n",
       "            <td>30003</td>\n",
       "            <td>7</td>\n",
       "        </tr>\n",
       "        <tr>\n",
       "            <td>E1008</td>\n",
       "            <td>Bharath</td>\n",
       "            <td>Gupta</td>\n",
       "            <td>123413</td>\n",
       "            <td>1985-06-05</td>\n",
       "            <td>M</td>\n",
       "            <td>145 Berry Ln, Naperville,IL</td>\n",
       "            <td>660</td>\n",
       "            <td>65000</td>\n",
       "            <td>30003</td>\n",
       "            <td>7</td>\n",
       "        </tr>\n",
       "        <tr>\n",
       "            <td>E1009</td>\n",
       "            <td>Andrea</td>\n",
       "            <td>Jones</td>\n",
       "            <td>123414</td>\n",
       "            <td>1990-09-07</td>\n",
       "            <td>F</td>\n",
       "            <td>120 Fall Creek, Gary,IL</td>\n",
       "            <td>234</td>\n",
       "            <td>70000</td>\n",
       "            <td>30003</td>\n",
       "            <td>7</td>\n",
       "        </tr>\n",
       "        <tr>\n",
       "            <td>E1010</td>\n",
       "            <td>Ann</td>\n",
       "            <td>Jacob</td>\n",
       "            <td>123415</td>\n",
       "            <td>1982-03-30</td>\n",
       "            <td>F</td>\n",
       "            <td>111 Britany Springs,Elgin,IL</td>\n",
       "            <td>220</td>\n",
       "            <td>70000</td>\n",
       "            <td>30004</td>\n",
       "            <td>5</td>\n",
       "        </tr>\n",
       "    </tbody>\n",
       "</table>"
      ],
      "text/plain": [
       "[('E1001', 'John', 'Thomas', 123456, '1976-09-01', 'M', '5631 Rice, OakPark,IL', 100, 100000, 30001, 2),\n",
       " ('E1002', 'Alice', 'James', 123457, '1972-07-31', 'F', '980 Berry ln, Elgin,IL', 200, 80000, 30002, 5),\n",
       " ('E1003', 'Steve', 'Wells', 123458, '1980-10-08', 'M', '291 Springs, Gary,IL', 300, 50000, 30002, 5),\n",
       " ('E1004', 'Santosh', 'Kumar', 123459, '1985-07-20', 'M', '511 Aurora Av, Aurora,IL', 400, 60000, 30004, 5),\n",
       " ('E1005', 'Ahmed', 'Hussain', 123410, '1981-04-01', 'M', '216 Oak Tree, Geneva,IL', 500, 70000, 30001, 2),\n",
       " ('E1006', 'Nancy', 'Allen', 123411, '1978-06-02', 'F', '111 Green Pl, Elgin,IL', 600, 90000, 30001, 2),\n",
       " ('E1007', 'Mary', 'Thomas', 123412, '1975-05-05', 'F', '100 Rose Pl, Gary,IL', 650, 65000, 30003, 7),\n",
       " ('E1008', 'Bharath', 'Gupta', 123413, '1985-06-05', 'M', '145 Berry Ln, Naperville,IL', 660, 65000, 30003, 7),\n",
       " ('E1009', 'Andrea', 'Jones', 123414, '1990-09-07', 'F', '120 Fall Creek, Gary,IL', 234, 70000, 30003, 7),\n",
       " ('E1010', 'Ann', 'Jacob', 123415, '1982-03-30', 'F', '111 Britany Springs,Elgin,IL', 220, 70000, 30004, 5)]"
      ]
     },
     "execution_count": 4,
     "metadata": {},
     "output_type": "execute_result"
    }
   ],
   "source": [
    "%sql select * from employees;"
   ]
  },
  {
   "cell_type": "code",
   "execution_count": 3,
   "metadata": {},
   "outputs": [
    {
     "name": "stdout",
     "output_type": "stream",
     "text": [
      " * sqlite:///HR.db\n",
      "Done.\n"
     ]
    },
    {
     "data": {
      "text/html": [
       "<table>\n",
       "    <thead>\n",
       "        <tr>\n",
       "            <th>name</th>\n",
       "        </tr>\n",
       "    </thead>\n",
       "    <tbody>\n",
       "        <tr>\n",
       "            <td>employees</td>\n",
       "        </tr>\n",
       "        <tr>\n",
       "            <td>job_history</td>\n",
       "        </tr>\n",
       "        <tr>\n",
       "            <td>jobs</td>\n",
       "        </tr>\n",
       "        <tr>\n",
       "            <td>locations</td>\n",
       "        </tr>\n",
       "        <tr>\n",
       "            <td>departments</td>\n",
       "        </tr>\n",
       "    </tbody>\n",
       "</table>"
      ],
      "text/plain": [
       "[('employees',), ('job_history',), ('jobs',), ('locations',), ('departments',)]"
      ]
     },
     "execution_count": 3,
     "metadata": {},
     "output_type": "execute_result"
    }
   ],
   "source": [
    "%sql select name from sqlite_master where type=\"table\";"
   ]
  },
  {
   "cell_type": "code",
   "execution_count": 6,
   "metadata": {},
   "outputs": [
    {
     "name": "stdout",
     "output_type": "stream",
     "text": [
      " * sqlite:///HR.db\n",
      "Done.\n"
     ]
    },
    {
     "data": {
      "text/html": [
       "<table>\n",
       "    <thead>\n",
       "        <tr>\n",
       "            <th>emp_id</th>\n",
       "            <th>f_name</th>\n",
       "            <th>l_name</th>\n",
       "            <th>ssn</th>\n",
       "            <th>b_date</th>\n",
       "            <th>sex</th>\n",
       "            <th>address</th>\n",
       "            <th>job_id</th>\n",
       "            <th>salary</th>\n",
       "            <th>manager_id</th>\n",
       "            <th>dept_id</th>\n",
       "        </tr>\n",
       "    </thead>\n",
       "    <tbody>\n",
       "        <tr>\n",
       "            <td>E1001</td>\n",
       "            <td>John</td>\n",
       "            <td>Thomas</td>\n",
       "            <td>123456</td>\n",
       "            <td>1976-09-01</td>\n",
       "            <td>M</td>\n",
       "            <td>5631 Rice, OakPark,IL</td>\n",
       "            <td>100</td>\n",
       "            <td>100000</td>\n",
       "            <td>30001</td>\n",
       "            <td>2</td>\n",
       "        </tr>\n",
       "        <tr>\n",
       "            <td>E1002</td>\n",
       "            <td>Alice</td>\n",
       "            <td>James</td>\n",
       "            <td>123457</td>\n",
       "            <td>1972-07-31</td>\n",
       "            <td>F</td>\n",
       "            <td>980 Berry ln, Elgin,IL</td>\n",
       "            <td>200</td>\n",
       "            <td>80000</td>\n",
       "            <td>30002</td>\n",
       "            <td>5</td>\n",
       "        </tr>\n",
       "        <tr>\n",
       "            <td>E1003</td>\n",
       "            <td>Steve</td>\n",
       "            <td>Wells</td>\n",
       "            <td>123458</td>\n",
       "            <td>1980-10-08</td>\n",
       "            <td>M</td>\n",
       "            <td>291 Springs, Gary,IL</td>\n",
       "            <td>300</td>\n",
       "            <td>50000</td>\n",
       "            <td>30002</td>\n",
       "            <td>5</td>\n",
       "        </tr>\n",
       "        <tr>\n",
       "            <td>E1004</td>\n",
       "            <td>Santosh</td>\n",
       "            <td>Kumar</td>\n",
       "            <td>123459</td>\n",
       "            <td>1985-07-20</td>\n",
       "            <td>M</td>\n",
       "            <td>511 Aurora Av, Aurora,IL</td>\n",
       "            <td>400</td>\n",
       "            <td>60000</td>\n",
       "            <td>30004</td>\n",
       "            <td>5</td>\n",
       "        </tr>\n",
       "        <tr>\n",
       "            <td>E1005</td>\n",
       "            <td>Ahmed</td>\n",
       "            <td>Hussain</td>\n",
       "            <td>123410</td>\n",
       "            <td>1981-04-01</td>\n",
       "            <td>M</td>\n",
       "            <td>216 Oak Tree, Geneva,IL</td>\n",
       "            <td>500</td>\n",
       "            <td>70000</td>\n",
       "            <td>30001</td>\n",
       "            <td>2</td>\n",
       "        </tr>\n",
       "        <tr>\n",
       "            <td>E1006</td>\n",
       "            <td>Nancy</td>\n",
       "            <td>Allen</td>\n",
       "            <td>123411</td>\n",
       "            <td>1978-06-02</td>\n",
       "            <td>F</td>\n",
       "            <td>111 Green Pl, Elgin,IL</td>\n",
       "            <td>600</td>\n",
       "            <td>90000</td>\n",
       "            <td>30001</td>\n",
       "            <td>2</td>\n",
       "        </tr>\n",
       "        <tr>\n",
       "            <td>E1007</td>\n",
       "            <td>Mary</td>\n",
       "            <td>Thomas</td>\n",
       "            <td>123412</td>\n",
       "            <td>1975-05-05</td>\n",
       "            <td>F</td>\n",
       "            <td>100 Rose Pl, Gary,IL</td>\n",
       "            <td>650</td>\n",
       "            <td>65000</td>\n",
       "            <td>30003</td>\n",
       "            <td>7</td>\n",
       "        </tr>\n",
       "        <tr>\n",
       "            <td>E1008</td>\n",
       "            <td>Bharath</td>\n",
       "            <td>Gupta</td>\n",
       "            <td>123413</td>\n",
       "            <td>1985-06-05</td>\n",
       "            <td>M</td>\n",
       "            <td>145 Berry Ln, Naperville,IL</td>\n",
       "            <td>660</td>\n",
       "            <td>65000</td>\n",
       "            <td>30003</td>\n",
       "            <td>7</td>\n",
       "        </tr>\n",
       "        <tr>\n",
       "            <td>E1009</td>\n",
       "            <td>Andrea</td>\n",
       "            <td>Jones</td>\n",
       "            <td>123414</td>\n",
       "            <td>1990-09-07</td>\n",
       "            <td>F</td>\n",
       "            <td>120 Fall Creek, Gary,IL</td>\n",
       "            <td>234</td>\n",
       "            <td>70000</td>\n",
       "            <td>30003</td>\n",
       "            <td>7</td>\n",
       "        </tr>\n",
       "        <tr>\n",
       "            <td>E1010</td>\n",
       "            <td>Ann</td>\n",
       "            <td>Jacob</td>\n",
       "            <td>123415</td>\n",
       "            <td>1982-03-30</td>\n",
       "            <td>F</td>\n",
       "            <td>111 Britany Springs,Elgin,IL</td>\n",
       "            <td>220</td>\n",
       "            <td>70000</td>\n",
       "            <td>30004</td>\n",
       "            <td>5</td>\n",
       "        </tr>\n",
       "    </tbody>\n",
       "</table>"
      ],
      "text/plain": [
       "[('E1001', 'John', 'Thomas', 123456, '1976-09-01', 'M', '5631 Rice, OakPark,IL', 100, 100000, 30001, 2),\n",
       " ('E1002', 'Alice', 'James', 123457, '1972-07-31', 'F', '980 Berry ln, Elgin,IL', 200, 80000, 30002, 5),\n",
       " ('E1003', 'Steve', 'Wells', 123458, '1980-10-08', 'M', '291 Springs, Gary,IL', 300, 50000, 30002, 5),\n",
       " ('E1004', 'Santosh', 'Kumar', 123459, '1985-07-20', 'M', '511 Aurora Av, Aurora,IL', 400, 60000, 30004, 5),\n",
       " ('E1005', 'Ahmed', 'Hussain', 123410, '1981-04-01', 'M', '216 Oak Tree, Geneva,IL', 500, 70000, 30001, 2),\n",
       " ('E1006', 'Nancy', 'Allen', 123411, '1978-06-02', 'F', '111 Green Pl, Elgin,IL', 600, 90000, 30001, 2),\n",
       " ('E1007', 'Mary', 'Thomas', 123412, '1975-05-05', 'F', '100 Rose Pl, Gary,IL', 650, 65000, 30003, 7),\n",
       " ('E1008', 'Bharath', 'Gupta', 123413, '1985-06-05', 'M', '145 Berry Ln, Naperville,IL', 660, 65000, 30003, 7),\n",
       " ('E1009', 'Andrea', 'Jones', 123414, '1990-09-07', 'F', '120 Fall Creek, Gary,IL', 234, 70000, 30003, 7),\n",
       " ('E1010', 'Ann', 'Jacob', 123415, '1982-03-30', 'F', '111 Britany Springs,Elgin,IL', 220, 70000, 30004, 5)]"
      ]
     },
     "execution_count": 6,
     "metadata": {},
     "output_type": "execute_result"
    }
   ],
   "source": [
    "%%sql\n",
    "select * from employees;\n"
   ]
  },
  {
   "cell_type": "code",
   "execution_count": 7,
   "metadata": {},
   "outputs": [
    {
     "name": "stdout",
     "output_type": "stream",
     "text": [
      " * sqlite:///HR.db\n",
      "Done.\n"
     ]
    },
    {
     "data": {
      "text/html": [
       "<table>\n",
       "    <thead>\n",
       "        <tr>\n",
       "            <th>emp_id</th>\n",
       "            <th>start_date</th>\n",
       "            <th>job_id</th>\n",
       "            <th>dept_id</th>\n",
       "        </tr>\n",
       "    </thead>\n",
       "    <tbody>\n",
       "        <tr>\n",
       "            <td>E1001</td>\n",
       "            <td>2000-01-08</td>\n",
       "            <td>100</td>\n",
       "            <td>2</td>\n",
       "        </tr>\n",
       "        <tr>\n",
       "            <td>E1002</td>\n",
       "            <td>2001-01-08</td>\n",
       "            <td>200</td>\n",
       "            <td>5</td>\n",
       "        </tr>\n",
       "        <tr>\n",
       "            <td>E1003</td>\n",
       "            <td>2001-08-16</td>\n",
       "            <td>300</td>\n",
       "            <td>5</td>\n",
       "        </tr>\n",
       "        <tr>\n",
       "            <td>E1004</td>\n",
       "            <td>2001-08-16</td>\n",
       "            <td>400</td>\n",
       "            <td>5</td>\n",
       "        </tr>\n",
       "        <tr>\n",
       "            <td>E1005</td>\n",
       "            <td>2000-05-30</td>\n",
       "            <td>500</td>\n",
       "            <td>2</td>\n",
       "        </tr>\n",
       "        <tr>\n",
       "            <td>E1006</td>\n",
       "            <td>2001-08-16</td>\n",
       "            <td>600</td>\n",
       "            <td>2</td>\n",
       "        </tr>\n",
       "        <tr>\n",
       "            <td>E1007</td>\n",
       "            <td>2002-05-30</td>\n",
       "            <td>650</td>\n",
       "            <td>7</td>\n",
       "        </tr>\n",
       "        <tr>\n",
       "            <td>E1008</td>\n",
       "            <td>2010-06-05</td>\n",
       "            <td>660</td>\n",
       "            <td>7</td>\n",
       "        </tr>\n",
       "        <tr>\n",
       "            <td>E1009</td>\n",
       "            <td>2016-08-16</td>\n",
       "            <td>234</td>\n",
       "            <td>7</td>\n",
       "        </tr>\n",
       "        <tr>\n",
       "            <td>E1010</td>\n",
       "            <td>2016-08-16</td>\n",
       "            <td>220</td>\n",
       "            <td>5</td>\n",
       "        </tr>\n",
       "    </tbody>\n",
       "</table>"
      ],
      "text/plain": [
       "[('E1001', '2000-01-08', 100, 2),\n",
       " ('E1002', '2001-01-08', 200, 5),\n",
       " ('E1003', '2001-08-16', 300, 5),\n",
       " ('E1004', '2001-08-16', 400, 5),\n",
       " ('E1005', '2000-05-30', 500, 2),\n",
       " ('E1006', '2001-08-16', 600, 2),\n",
       " ('E1007', '2002-05-30', 650, 7),\n",
       " ('E1008', '2010-06-05', 660, 7),\n",
       " ('E1009', '2016-08-16', 234, 7),\n",
       " ('E1010', '2016-08-16', 220, 5)]"
      ]
     },
     "execution_count": 7,
     "metadata": {},
     "output_type": "execute_result"
    }
   ],
   "source": [
    "%sql select * from job_history;\n"
   ]
  },
  {
   "cell_type": "code",
   "execution_count": 8,
   "metadata": {},
   "outputs": [
    {
     "name": "stdout",
     "output_type": "stream",
     "text": [
      " * sqlite:///HR.db\n",
      "Done.\n"
     ]
    },
    {
     "data": {
      "text/html": [
       "<table>\n",
       "    <thead>\n",
       "        <tr>\n",
       "            <th>job_id</th>\n",
       "            <th>job_title</th>\n",
       "            <th>min_salary</th>\n",
       "            <th>max_salary</th>\n",
       "        </tr>\n",
       "    </thead>\n",
       "    <tbody>\n",
       "        <tr>\n",
       "            <td>100</td>\n",
       "            <td>Sr. Architect</td>\n",
       "            <td>60000</td>\n",
       "            <td>100000</td>\n",
       "        </tr>\n",
       "        <tr>\n",
       "            <td>200</td>\n",
       "            <td>Sr. Software Developer</td>\n",
       "            <td>60000</td>\n",
       "            <td>80000</td>\n",
       "        </tr>\n",
       "        <tr>\n",
       "            <td>220</td>\n",
       "            <td>Sr. Designer</td>\n",
       "            <td>70000</td>\n",
       "            <td>90000</td>\n",
       "        </tr>\n",
       "        <tr>\n",
       "            <td>234</td>\n",
       "            <td>Sr. Designer</td>\n",
       "            <td>70000</td>\n",
       "            <td>90000</td>\n",
       "        </tr>\n",
       "        <tr>\n",
       "            <td>300</td>\n",
       "            <td>Jr. Software Developer</td>\n",
       "            <td>40000</td>\n",
       "            <td>60000</td>\n",
       "        </tr>\n",
       "        <tr>\n",
       "            <td>400</td>\n",
       "            <td>Jr. Software Developer</td>\n",
       "            <td>40000</td>\n",
       "            <td>60000</td>\n",
       "        </tr>\n",
       "        <tr>\n",
       "            <td>500</td>\n",
       "            <td>Jr. Architect</td>\n",
       "            <td>50000</td>\n",
       "            <td>70000</td>\n",
       "        </tr>\n",
       "        <tr>\n",
       "            <td>600</td>\n",
       "            <td>Lead Architect</td>\n",
       "            <td>70000</td>\n",
       "            <td>100000</td>\n",
       "        </tr>\n",
       "        <tr>\n",
       "            <td>650</td>\n",
       "            <td>Jr. Designer</td>\n",
       "            <td>60000</td>\n",
       "            <td>70000</td>\n",
       "        </tr>\n",
       "        <tr>\n",
       "            <td>660</td>\n",
       "            <td>Jr. Designer</td>\n",
       "            <td>60000</td>\n",
       "            <td>70000</td>\n",
       "        </tr>\n",
       "    </tbody>\n",
       "</table>"
      ],
      "text/plain": [
       "[(100, 'Sr. Architect', 60000, 100000),\n",
       " (200, 'Sr. Software Developer', 60000, 80000),\n",
       " (220, 'Sr. Designer', 70000, 90000),\n",
       " (234, 'Sr. Designer', 70000, 90000),\n",
       " (300, 'Jr. Software Developer', 40000, 60000),\n",
       " (400, 'Jr. Software Developer', 40000, 60000),\n",
       " (500, 'Jr. Architect', 50000, 70000),\n",
       " (600, 'Lead Architect', 70000, 100000),\n",
       " (650, 'Jr. Designer', 60000, 70000),\n",
       " (660, 'Jr. Designer', 60000, 70000)]"
      ]
     },
     "execution_count": 8,
     "metadata": {},
     "output_type": "execute_result"
    }
   ],
   "source": [
    "%sql select * from jobs;\n"
   ]
  },
  {
   "cell_type": "code",
   "execution_count": 9,
   "metadata": {},
   "outputs": [
    {
     "name": "stdout",
     "output_type": "stream",
     "text": [
      " * sqlite:///HR.db\n",
      "Done.\n"
     ]
    },
    {
     "data": {
      "text/html": [
       "<table>\n",
       "    <thead>\n",
       "        <tr>\n",
       "            <th>location_id</th>\n",
       "            <th>dept_id</th>\n",
       "        </tr>\n",
       "    </thead>\n",
       "    <tbody>\n",
       "        <tr>\n",
       "            <td>L0001</td>\n",
       "            <td>2</td>\n",
       "        </tr>\n",
       "        <tr>\n",
       "            <td>L0002</td>\n",
       "            <td>5</td>\n",
       "        </tr>\n",
       "        <tr>\n",
       "            <td>L0003</td>\n",
       "            <td>7</td>\n",
       "        </tr>\n",
       "    </tbody>\n",
       "</table>"
      ],
      "text/plain": [
       "[('L0001', 2), ('L0002', 5), ('L0003', 7)]"
      ]
     },
     "execution_count": 9,
     "metadata": {},
     "output_type": "execute_result"
    }
   ],
   "source": [
    "%sql select * from locations;\n"
   ]
  },
  {
   "cell_type": "code",
   "execution_count": 10,
   "metadata": {},
   "outputs": [
    {
     "name": "stdout",
     "output_type": "stream",
     "text": [
      " * sqlite:///HR.db\n",
      "Done.\n"
     ]
    },
    {
     "data": {
      "text/html": [
       "<table>\n",
       "    <thead>\n",
       "        <tr>\n",
       "            <th>dept_id</th>\n",
       "            <th>dept_name</th>\n",
       "            <th>manager_id</th>\n",
       "            <th>location_id</th>\n",
       "        </tr>\n",
       "    </thead>\n",
       "    <tbody>\n",
       "        <tr>\n",
       "            <td>2</td>\n",
       "            <td>Architect Group</td>\n",
       "            <td>30001</td>\n",
       "            <td>L0001</td>\n",
       "        </tr>\n",
       "        <tr>\n",
       "            <td>5</td>\n",
       "            <td>Software Group</td>\n",
       "            <td>30002</td>\n",
       "            <td>L0002</td>\n",
       "        </tr>\n",
       "        <tr>\n",
       "            <td>7</td>\n",
       "            <td>Design Team</td>\n",
       "            <td>30003</td>\n",
       "            <td>L0003</td>\n",
       "        </tr>\n",
       "    </tbody>\n",
       "</table>"
      ],
      "text/plain": [
       "[(2, 'Architect Group', 30001, 'L0001'),\n",
       " (5, 'Software Group', 30002, 'L0002'),\n",
       " (7, 'Design Team', 30003, 'L0003')]"
      ]
     },
     "execution_count": 10,
     "metadata": {},
     "output_type": "execute_result"
    }
   ],
   "source": [
    "%sql select * from departments;"
   ]
  },
  {
   "cell_type": "code",
   "execution_count": 13,
   "metadata": {},
   "outputs": [
    {
     "name": "stdout",
     "output_type": "stream",
     "text": [
      " * sqlite:///HR.db\n",
      "(sqlite3.OperationalError) ambiguous column name: emp_id\n",
      "[SQL: select f_name,l_name,start_date from employees e,job_history j where e.emp_id\n",
      "=j.emp_id and emp_id=5;]\n",
      "(Background on this error at: https://sqlalche.me/e/14/e3q8)\n"
     ]
    }
   ],
   "source": [
    "%%sql\n",
    "select f_name,l_name,start_date from employees e,job_history j where e.emp_id\n",
    "=j.emp_id and emp_id=5;"
   ]
  },
  {
   "cell_type": "code",
   "execution_count": null,
   "metadata": {},
   "outputs": [],
   "source": []
  }
 ],
 "metadata": {
  "kernelspec": {
   "display_name": "muruga",
   "language": "python",
   "name": "python3"
  },
  "language_info": {
   "codemirror_mode": {
    "name": "ipython",
    "version": 3
   },
   "file_extension": ".py",
   "mimetype": "text/x-python",
   "name": "python",
   "nbconvert_exporter": "python",
   "pygments_lexer": "ipython3",
   "version": "3.10.16"
  }
 },
 "nbformat": 4,
 "nbformat_minor": 2
}
