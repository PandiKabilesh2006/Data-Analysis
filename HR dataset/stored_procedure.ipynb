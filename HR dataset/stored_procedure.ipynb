{
 "cells": [
  {
   "cell_type": "code",
   "execution_count": 1,
   "metadata": {},
   "outputs": [
    {
     "data": {
      "text/plain": [
       "\"Connected: @'HR.db'\""
      ]
     },
     "execution_count": 1,
     "metadata": {},
     "output_type": "execute_result"
    }
   ],
   "source": [
    "import numpy as np\n",
    "import pandas as pd\n",
    "import sqlite3\n",
    "con=sqlite3.connect('HR.db')\n",
    "cur=con.cursor()\n",
    "%load_ext sql\n",
    "%sql sqlite:///'HR.db'\n"
   ]
  },
  {
   "cell_type": "code",
   "execution_count": 3,
   "metadata": {},
   "outputs": [],
   "source": [
    "import prettytable\n",
    "prettytable.DEFAULT='DEFAULT'"
   ]
  },
  {
   "cell_type": "code",
   "execution_count": 5,
   "metadata": {},
   "outputs": [
    {
     "name": "stdout",
     "output_type": "stream",
     "text": [
      " * sqlite:///'HR.db'\n",
      "(sqlite3.OperationalError) table PETSALE already exists\n",
      "[SQL: CREATE TABLE PETSALE (\n",
      "\tID INTEGER NOT NULL,\n",
      "\tANIMAL VARCHAR(20),\n",
      "\tSALEPRICE DECIMAL(6,2),\n",
      "\tSALEDATE DATE,\n",
      "\tQUANTITY INTEGER,\n",
      "\tPRIMARY KEY (ID)\n",
      "\t);]\n",
      "(Background on this error at: https://sqlalche.me/e/14/e3q8)\n"
     ]
    }
   ],
   "source": [
    "%%sql\n",
    "CREATE TABLE PETSALE (\n",
    "\tID INTEGER NOT NULL,\n",
    "\tANIMAL VARCHAR(20),\n",
    "\tSALEPRICE DECIMAL(6,2),\n",
    "\tSALEDATE DATE,\n",
    "\tQUANTITY INTEGER,\n",
    "\tPRIMARY KEY (ID)\n",
    "\t);\n",
    "INSERT INTO PETSALE VALUES\n",
    "(1,'Cat',450.09,'2018-05-29',9),\n",
    "(2,'Dog',666.66,'2018-06-01',3),\n",
    "(3,'Parrot',50.00,'2018-06-04',2),\n",
    "(4,'Hamster',60.60,'2018-06-11',6),\n",
    "(5,'Goldfish',48.48,'2018-06-14',24);"
   ]
  },
  {
   "cell_type": "code",
   "execution_count": 6,
   "metadata": {},
   "outputs": [
    {
     "name": "stdout",
     "output_type": "stream",
     "text": [
      " * sqlite:///'HR.db'\n",
      "Done.\n"
     ]
    },
    {
     "data": {
      "text/html": [
       "<table>\n",
       "    <thead>\n",
       "        <tr>\n",
       "            <th>ID</th>\n",
       "            <th>ANIMAL</th>\n",
       "            <th>SALEPRICE</th>\n",
       "            <th>SALEDATE</th>\n",
       "            <th>QUANTITY</th>\n",
       "        </tr>\n",
       "    </thead>\n",
       "    <tbody>\n",
       "        <tr>\n",
       "            <td>1</td>\n",
       "            <td>Cat</td>\n",
       "            <td>450.09</td>\n",
       "            <td>2018-05-29</td>\n",
       "            <td>9</td>\n",
       "        </tr>\n",
       "        <tr>\n",
       "            <td>2</td>\n",
       "            <td>Dog</td>\n",
       "            <td>666.66</td>\n",
       "            <td>2018-06-01</td>\n",
       "            <td>3</td>\n",
       "        </tr>\n",
       "        <tr>\n",
       "            <td>3</td>\n",
       "            <td>Parrot</td>\n",
       "            <td>50</td>\n",
       "            <td>2018-06-04</td>\n",
       "            <td>2</td>\n",
       "        </tr>\n",
       "        <tr>\n",
       "            <td>4</td>\n",
       "            <td>Hamster</td>\n",
       "            <td>60.6</td>\n",
       "            <td>2018-06-11</td>\n",
       "            <td>6</td>\n",
       "        </tr>\n",
       "        <tr>\n",
       "            <td>5</td>\n",
       "            <td>Goldfish</td>\n",
       "            <td>48.48</td>\n",
       "            <td>2018-06-14</td>\n",
       "            <td>24</td>\n",
       "        </tr>\n",
       "    </tbody>\n",
       "</table>"
      ],
      "text/plain": [
       "[(1, 'Cat', 450.09, '2018-05-29', 9),\n",
       " (2, 'Dog', 666.66, '2018-06-01', 3),\n",
       " (3, 'Parrot', 50, '2018-06-04', 2),\n",
       " (4, 'Hamster', 60.6, '2018-06-11', 6),\n",
       " (5, 'Goldfish', 48.48, '2018-06-14', 24)]"
      ]
     },
     "execution_count": 6,
     "metadata": {},
     "output_type": "execute_result"
    }
   ],
   "source": [
    "%sql SELECT * FROM PETSALE"
   ]
  },
  {
   "cell_type": "code",
   "execution_count": 9,
   "metadata": {},
   "outputs": [
    {
     "name": "stdout",
     "output_type": "stream",
     "text": [
      " * sqlite:///'HR.db'\n",
      "(sqlite3.OperationalError) near \"DELIMITER\": syntax error\n",
      "[SQL: DELIMITER //\n",
      "\n",
      "CREATE PROCEDURE RETRIEVE_ALL()\n",
      "\n",
      "BEGIN\n",
      "   SELECT *  FROM PETSALE;\n",
      "END //\n",
      "DELIMITER ;]\n",
      "(Background on this error at: https://sqlalche.me/e/14/e3q8)\n"
     ]
    }
   ],
   "source": [
    "%%sql\n",
    "DELIMITER //\n",
    "\n",
    "CREATE PROCEDURE RETRIEVE_ALL()\n",
    "\n",
    "BEGIN\n",
    "   SELECT *  FROM PETSALE;\n",
    "END //\n",
    "DELIMITER ;"
   ]
  },
  {
   "cell_type": "code",
   "execution_count": 8,
   "metadata": {},
   "outputs": [
    {
     "name": "stdout",
     "output_type": "stream",
     "text": [
      " * sqlite:///'HR.db'\n",
      "(sqlite3.OperationalError) near \"CALL\": syntax error\n",
      "[SQL: CALL RETRIEVE_ALL;]\n",
      "(Background on this error at: https://sqlalche.me/e/14/e3q8)\n"
     ]
    }
   ],
   "source": [
    "%%sql\n",
    "CALL RETRIEVE_ALL;"
   ]
  },
  {
   "cell_type": "code",
   "execution_count": 10,
   "metadata": {},
   "outputs": [
    {
     "name": "stdout",
     "output_type": "stream",
     "text": [
      " * sqlite:///'HR.db'\n",
      "Done.\n",
      "4 rows affected.\n",
      "Done.\n"
     ]
    },
    {
     "data": {
      "text/html": [
       "<table>\n",
       "    <thead>\n",
       "        <tr>\n",
       "            <th>AccountNumber</th>\n",
       "            <th>AccountName</th>\n",
       "            <th>Balance</th>\n",
       "        </tr>\n",
       "    </thead>\n",
       "    <tbody>\n",
       "        <tr>\n",
       "            <td>B001</td>\n",
       "            <td>Rose</td>\n",
       "            <td>300</td>\n",
       "        </tr>\n",
       "        <tr>\n",
       "            <td>B002</td>\n",
       "            <td>James</td>\n",
       "            <td>1345</td>\n",
       "        </tr>\n",
       "        <tr>\n",
       "            <td>B003</td>\n",
       "            <td>Shoe Shop</td>\n",
       "            <td>124200</td>\n",
       "        </tr>\n",
       "        <tr>\n",
       "            <td>B004</td>\n",
       "            <td>Corner Shop</td>\n",
       "            <td>76000</td>\n",
       "        </tr>\n",
       "    </tbody>\n",
       "</table>"
      ],
      "text/plain": [
       "[('B001', 'Rose', 300),\n",
       " ('B002', 'James', 1345),\n",
       " ('B003', 'Shoe Shop', 124200),\n",
       " ('B004', 'Corner Shop', 76000)]"
      ]
     },
     "execution_count": 10,
     "metadata": {},
     "output_type": "execute_result"
    }
   ],
   "source": [
    "%%sql\n",
    "CREATE TABLE BankAccounts (\n",
    "    AccountNumber VARCHAR(5) NOT NULL,\n",
    "    AccountName VARCHAR(25) NOT NULL,\n",
    "    Balance DECIMAL(8,2) CHECK(Balance>=0) NOT NULL,\n",
    "    PRIMARY KEY (AccountNumber)\n",
    "    );\n",
    "INSERT INTO BankAccounts VALUES\n",
    "('B001','Rose',300),\n",
    "('B002','James',1345),\n",
    "('B003','Shoe Shop',124200),\n",
    "('B004','Corner Shop',76000);\n",
    "SELECT * FROM BankAccounts;"
   ]
  },
  {
   "cell_type": "code",
   "execution_count": 11,
   "metadata": {},
   "outputs": [
    {
     "name": "stdout",
     "output_type": "stream",
     "text": [
      " * sqlite:///'HR.db'\n",
      "Done.\n",
      "4 rows affected.\n",
      "Done.\n"
     ]
    },
    {
     "data": {
      "text/html": [
       "<table>\n",
       "    <thead>\n",
       "        <tr>\n",
       "            <th>Product</th>\n",
       "            <th>Stock</th>\n",
       "            <th>Price</th>\n",
       "        </tr>\n",
       "    </thead>\n",
       "    <tbody>\n",
       "        <tr>\n",
       "            <td>Boots</td>\n",
       "            <td>11</td>\n",
       "            <td>200</td>\n",
       "        </tr>\n",
       "        <tr>\n",
       "            <td>High heels</td>\n",
       "            <td>8</td>\n",
       "            <td>600</td>\n",
       "        </tr>\n",
       "        <tr>\n",
       "            <td>Brogues</td>\n",
       "            <td>10</td>\n",
       "            <td>150</td>\n",
       "        </tr>\n",
       "        <tr>\n",
       "            <td>Trainers</td>\n",
       "            <td>14</td>\n",
       "            <td>300</td>\n",
       "        </tr>\n",
       "    </tbody>\n",
       "</table>"
      ],
      "text/plain": [
       "[('Boots', 11, 200),\n",
       " ('High heels', 8, 600),\n",
       " ('Brogues', 10, 150),\n",
       " ('Trainers', 14, 300)]"
      ]
     },
     "execution_count": 11,
     "metadata": {},
     "output_type": "execute_result"
    }
   ],
   "source": [
    "%%sql\n",
    "CREATE TABLE ShoeShop (\n",
    "    Product VARCHAR(25) NOT NULL,\n",
    "    Stock INTEGER NOT NULL,\n",
    "    Price DECIMAL(8,2) CHECK(Price>0) NOT NULL,\n",
    "    PRIMARY KEY (Product)\n",
    "    );\n",
    "INSERT INTO ShoeShop VALUES\n",
    "('Boots',11,200),\n",
    "('High heels',8,600),\n",
    "('Brogues',10,150),\n",
    "('Trainers',14,300);\n",
    "select * from ShoeShop;\n"
   ]
  },
  {
   "cell_type": "code",
   "execution_count": null,
   "metadata": {},
   "outputs": [],
   "source": []
  }
 ],
 "metadata": {
  "kernelspec": {
   "display_name": "muruga",
   "language": "python",
   "name": "python3"
  },
  "language_info": {
   "codemirror_mode": {
    "name": "ipython",
    "version": 3
   },
   "file_extension": ".py",
   "mimetype": "text/x-python",
   "name": "python",
   "nbconvert_exporter": "python",
   "pygments_lexer": "ipython3",
   "version": "3.10.16"
  }
 },
 "nbformat": 4,
 "nbformat_minor": 2
}
